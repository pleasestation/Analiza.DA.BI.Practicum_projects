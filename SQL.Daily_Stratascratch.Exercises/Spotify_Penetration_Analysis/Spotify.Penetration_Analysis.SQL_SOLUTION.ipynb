{
 "cells": [
  {
   "cell_type": "markdown",
   "id": "7690f0c5-d942-4248-96db-2c41ae9ad8d7",
   "metadata": {},
   "source": [
    "```sql\r\n",
    "WITH active_users AS (\r\n",
    "    SELECT country,\r\n",
    "        COUNT(*) AS active_user_count\r\n",
    "    FROM penetration_analysis\r\n",
    "    WHERE last_active_date >= DATEADD(DAY, -30, CAST('2024-01-31' AS DATE))  -- Adjusted to use DATEADD for date calculation\r\n",
    "        AND sessions >= 5\r\n",
    "        AND listening_hours >= 10\r\n",
    "    GROUP BY country\r\n",
    "),\r\n",
    "total_users AS (\r\n",
    "    SELECT country,\r\n",
    "        COUNT(*) AS total_user_count\r\n",
    "    FROM penetration_analysis\r\n",
    "    GROUP BY country\r\n",
    ")\r\n",
    "SELECT t.country,\r\n",
    "    ROUND((CAST(a.active_user_count AS FLOAT) / NULLIF(CAST(t.total_user_count AS FLOAT), 0)) * 100, 2) AS active_user_penetration_rate  -- Added NULLIF to handle division by zero\r\n",
    "FROM total_users t\r\n",
    "    LEFT JOIN active_users a ON t.country = a.country\r\n",
    "ORDER BY active_user_penetration_rate DESC\r\n"
   ]
  },
  {
   "cell_type": "markdown",
   "id": "56b80ce4-6f64-45de-aff2-2c3b6cdba928",
   "metadata": {},
   "source": [
    "## Output\r\n"
   ]
  },
  {
   "cell_type": "markdown",
   "id": "493c9bef-dd71-4f23-a89b-67783bec514d",
   "metadata": {},
   "source": [
    "| Country | Active User Penetration Rate |\r\n",
    "|---------|------------------------------|\r\n",
    "| France  | 50.52                        |\r\n",
    "| Japan   | 45.05                        |\r\n",
    "| Brazil  | 42.86                        |\r\n",
    "| Germany | 42.25                        |\r\n",
    "| USA     | 40.68                        |\r\n"
   ]
  },
  {
   "cell_type": "code",
   "execution_count": null,
   "id": "e34e8244-c7bc-4e31-8b57-50395c8bafac",
   "metadata": {},
   "outputs": [],
   "source": []
  }
 ],
 "metadata": {
  "kernelspec": {
   "display_name": "Python 3 (ipykernel)",
   "language": "python",
   "name": "python3"
  },
  "language_info": {
   "codemirror_mode": {
    "name": "ipython",
    "version": 3
   },
   "file_extension": ".py",
   "mimetype": "text/x-python",
   "name": "python",
   "nbconvert_exporter": "python",
   "pygments_lexer": "ipython3",
   "version": "3.12.4"
  }
 },
 "nbformat": 4,
 "nbformat_minor": 5
}
