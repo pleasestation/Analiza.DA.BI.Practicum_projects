{
 "cells": [
  {
   "cell_type": "markdown",
   "id": "16ada5d6-65f8-408d-9b78-25df1e249594",
   "metadata": {},
   "source": [
    "### Query Solution"
   ]
  },
  {
   "cell_type": "markdown",
   "id": "873eda3d-11fc-4ee1-adbb-6857694693d0",
   "metadata": {},
   "source": [
    "```sql\n",
    "WITH UserTransactions AS (\n",
    "    SELECT \n",
    "        user_id,\n",
    "        created_at,\n",
    "        ROW_NUMBER() OVER (PARTITION BY user_id ORDER BY created_at) AS transaction_num\n",
    "    FROM amazon_transactions\n",
    ")\n",
    "SELECT DISTINCT \n",
    "    t1.user_id\n",
    "FROM \n",
    "    UserTransactions t1\n",
    "JOIN \n",
    "    UserTransactions t2 ON t1.user_id = t2.user_id\n",
    "                        AND t1.transaction_num < t2.transaction_num\n",
    "                        AND DATEDIFF(day, t1.created_at, t2.created_at) <= 7;\n"
   ]
  },
  {
   "cell_type": "markdown",
   "id": "b8cfa71c-cfae-43b2-9b4a-b16f095b1267",
   "metadata": {},
   "source": [
    "\r\n",
    "The list of `user_id`s for returning active users is:\r\n",
    "\r\n",
    "- 100\r\n",
    "- 103\r\n",
    "- 105\r\n",
    "- 109\r\n",
    "- 110\r\n",
    "- 111\r\n",
    "- 112\r\n",
    "- 114\r\n",
    "- 117\r\n",
    "- 120\r\n",
    "- 122\r\n",
    "- 128\r\n",
    "- 129\r\n",
    "- 130\r\n",
    "- 131\r\n",
    "- 133\r\n",
    "- 141\r\n",
    "- 143\r\n",
    "- 150\r\n"
   ]
  },
  {
   "cell_type": "markdown",
   "id": "4f4f2885-45da-4a4e-a913-dc0851c7df02",
   "metadata": {},
   "source": [
    "### Query Explanation\r\n",
    "\r\n",
    "This query identifies returning active users from the `amazon_transactions` table. A returning active user is defined as a user who has made a second purchase within 7 days of any other purchase. Here is an explanation of how the query work.created_at) <= 7;\r\n",
    "t2.created_at) <= 7;\r\n"
   ]
  },
  {
   "cell_type": "markdown",
   "id": "8017b411-0967-43f3-8c24-57ed0a7af47b",
   "metadata": {},
   "source": [
    "### Explanation\r\n",
    "\r\n",
    "#### Common Table Expression (CTE): `UserTransactions`\r\n",
    "\r\n",
    "- **Purpose**: Lists each user's transactions with a sequential number (`transaction_num`), ordered by the `created_at` date.\r\n",
    "- **`ROW_NUMBER()`**: Assigns a unique, sequential integer to each transaction per user, starting at 1 for the earliest transaction and increasing for later transactions.\r\n",
    "- **`PARTITION BY user_id`**: Restarts row numbering for each `user_id`.\r\n",
    "- **`ORDER BY created_at`**: Orders transactions by date.\r\n",
    "\r\n",
    "#### Main Query: Identify Returning Active Users\r\n",
    "\r\n",
    "- **Purpose**: Retrieves `user_id` of users who made a second purchase within 7 days of any other purchase.\r\n",
    "- **`JOIN` Operation**: Performs a self-join on `UserTransactions` (`t1` and `t2`) to compare each user's transactions.\r\n",
    "  - **`t1.user_id = t2.user_id`**: Ensures comparisons are made within the same user.\r\n",
    "  - **`t1.transaction_num < t2.transaction_num`**: Compares an earlier transaction (`t1`) with a later one (`t2`).\r\n",
    "  - **`DATEDIFF(day, t1.created_at, t2.created_at) <= 7`**: Checks if the difference between the two transaction dates is 7 days or less.\r\n",
    "- **`SELECT DISTINCT`**: Ensures each `user_id` appears only once in the output.\r\n",
    "\r\n",
    "### Output\r\n",
    "\r\n",
    "The query returns a list of `user_id`s for users who have made at least two purchases within a 7-day period, identifying \"returning active users.\"\r\n"
   ]
  }
 ],
 "metadata": {
  "kernelspec": {
   "display_name": "Python 3 (ipykernel)",
   "language": "python",
   "name": "python3"
  },
  "language_info": {
   "codemirror_mode": {
    "name": "ipython",
    "version": 3
   },
   "file_extension": ".py",
   "mimetype": "text/x-python",
   "name": "python",
   "nbconvert_exporter": "python",
   "pygments_lexer": "ipython3",
   "version": "3.12.4"
  }
 },
 "nbformat": 4,
 "nbformat_minor": 5
}
