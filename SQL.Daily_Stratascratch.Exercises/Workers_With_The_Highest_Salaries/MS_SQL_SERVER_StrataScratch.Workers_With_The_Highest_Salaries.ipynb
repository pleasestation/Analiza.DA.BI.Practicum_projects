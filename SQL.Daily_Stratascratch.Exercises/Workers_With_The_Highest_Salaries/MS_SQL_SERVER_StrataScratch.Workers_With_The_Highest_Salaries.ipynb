{
 "cells": [
  {
   "cell_type": "markdown",
   "id": "49ef60d3-a1bf-4807-a85e-1ee2f1cccf78",
   "metadata": {},
   "source": [
    "# Workers With The Highest Salaries"
   ]
  },
  {
   "cell_type": "markdown",
   "id": "36831613-3f1e-4257-97ab-013508b3d2fb",
   "metadata": {},
   "source": [
    "## Interview Question\r\n",
    "\r\n",
    "**Date**: July 2021  \r\n",
    "**Company**: Amazon, DoorDash  \r\n",
    "**Difficulty Level**: Medium  \r\n",
    "**Question ID**: 10353  \r\n",
    "\r\n",
    "**Relevant Roles**: Data Engineer | Data Scientist | BI Analyst | Data Analyst | ML Engineer\r\n",
    "\r\n",
    "**Link**: [Workers With The Highest Salaries](#)\r\n"
   ]
  },
  {
   "attachments": {},
   "cell_type": "markdown",
   "id": "2dc4f86f-95bd-4509-88f0-8c5d0d2ebcb7",
   "metadata": {},
   "source": [
    "## Task Description\r\n",
    "\r\n",
    "You have been asked to find the job titles of the highest-paid employees.\r\n",
    "\r\n",
    "Your output should include the highest-paid title or multiple titles with the same salary.\r\n",
    "\r\n",
    "### Tables\r\n",
    "\r\n",
    "- **`worker`**: Contains information about employees, including their salaries and titles.\r\n",
    "- **`title`**: Contains job titles corresponding to each employee.\r\n",
    "\r\n",
    "### Tables Schema\r\n",
    "\r\n",
    "**`worker` Table:**\r\n",
    "\r\n",
    "| worker_id | first_name | last_name | salary | joining_date | department |\r\n",
    "|:--------- |:---------- |:--------- |:------ |:------------ |:---------- |\r\n",
    "| 1         | Monika     | Arora     | 100000 | 2/20/2014    | HR         |\r\n",
    "| 2         | Niharika   | Verma     | 80000  | 6/11/2014    | Admin      |\r\n",
    "| 3         | Vishal     | Singhal   | 300000 | 2/20/2014    | HR         |\r\n",
    "| 4         | Amitah     | Singh     | 500000 | 2/20/2014    | Admin      |\r\n",
    "| 5         | Vivek      | Bhati     | 500000 | 6/11/2014    | Admin      |\r\n",
    "| 6         | Vipul      | Diwan     | 200000 | 6/11/2014    | Account    |\r\n",
    "| 7         | Satish     | Kumar     | 75000  | 1/20/2014    | Account    |\r\n",
    "| 8         | Geetika    | Chauhan   | 90000  | 4/11/2014    | Admin      |\r\n",
    "| 9         | Agepi      | Argon     | 90000  | 4/10/2015    | Admin      |\r\n",
    "| 10        | Moe        | Acharya   | 65000  | 4/11/2015    | HR         |\r\n",
    "| 11        | Nayah      | Laghari   | 75000  | 3/20/2014    | Account    |\r\n",
    "| 12        | Jai        | Patel     | 85000  | 3/21/2014    | HR         |\r\n",
    "\r\n",
    "**`title` Table:**\r\n",
    "\r\n",
    "| title_id | job_title         |\r\n",
    "|:-------- |:------------------|\r\n",
    "| 1        | Senior HR Manager  |\r\n",
    "| 2        | Admin Assistant   |\r\n",
    "| 3        | HR Director        |\r\n",
    "| 4        | Admin Director     |\r\n",
    "| 5        | Senior Accountant  |\r\n",
    "| 6        | Junior Accountant  |\r\n",
    "Description: Name of the job title\r\n",
    " the job title              |\r\n"
   ]
  },
  {
   "cell_type": "markdown",
   "id": "0724dc9b-44cb-42f6-899b-d8adaff15540",
   "metadata": {},
   "source": [
    "## Solved SQL Code"
   ]
  },
  {
   "cell_type": "markdown",
   "id": "5d4f0b53-9784-47c4-a8ff-c73979f35958",
   "metadata": {},
   "source": [
    "```sql\n",
    "SELECT DISTINCT t.worker_title\n",
    "FROM worker w\n",
    "JOIN title t ON t.worker_ref_id = w.worker_id\n",
    "WHERE w.salary = (SELECT MAX(salary) FROM worker)"
   ]
  }
 ],
 "metadata": {
  "kernelspec": {
   "display_name": "Python 3 (ipykernel)",
   "language": "python",
   "name": "python3"
  },
  "language_info": {
   "codemirror_mode": {
    "name": "ipython",
    "version": 3
   },
   "file_extension": ".py",
   "mimetype": "text/x-python",
   "name": "python",
   "nbconvert_exporter": "python",
   "pygments_lexer": "ipython3",
   "version": "3.12.4"
  }
 },
 "nbformat": 4,
 "nbformat_minor": 5
 }
},
## Output

**Your Solution**:
- worker_title
- Asst. Manager
- Manager
  }
