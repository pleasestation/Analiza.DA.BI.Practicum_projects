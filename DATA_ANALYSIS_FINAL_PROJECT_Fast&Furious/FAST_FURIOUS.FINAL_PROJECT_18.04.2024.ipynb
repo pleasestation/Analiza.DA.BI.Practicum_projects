{
 "cells": [
  {
   "cell_type": "markdown",
   "id": "24ace5e1-a5f1-42b1-adcf-21022f70133f",
   "metadata": {},
   "source": [
    "## FAST&FURIOUS FINAL PROJECT [18.04.2024] ##"
   ]
  },
  {
   "cell_type": "markdown",
   "id": "efeb7287-836f-4e69-9d00-1d04562d5216",
   "metadata": {},
   "source": [
    "![Alt text](http://nei-gong.com/DA/Fast_Furious/Fast_and_Furious_ALEX_SURIS_Page_01.jpg)"
   ]
  },
  {
   "attachments": {},
   "cell_type": "markdown",
   "id": "03a8f394-ed03-4d6b-a8bc-7881ae074cd8",
   "metadata": {},
   "source": [
    "## About The Project ##"
   ]
  },
  {
   "cell_type": "markdown",
   "id": "587823ad-9def-482e-81ea-786e0dcec243",
   "metadata": {},
   "source": [
    "**Fast and Furious**, a bicycle manufacturer and retailer, seeks strategic insights through data analysis.  \r\n",
    "The project aims to leverage stored data for informed decision-making with stores nationwide.  \r\n",
    "Using **_SQL, Excel, Tableau_**, and **_statistics_**, we'll deliver comprehensive findings and recommendations.\r\n"
   ]
  },
  {
   "cell_type": "markdown",
   "id": "34e3898a-cd90-4747-8a72-9f22962240fc",
   "metadata": {},
   "source": [
    "![Alt text](http://nei-gong.com/DA/Fast_Furious/Fast_Furious_02.JPG)"
   ]
  },
  {
   "attachments": {},
   "cell_type": "markdown",
   "id": "daf9c4d5-0891-4a34-b07e-19c68453b667",
   "metadata": {},
   "source": [
    "## About The Data ##"
   ]
  },
  {
   "cell_type": "markdown",
   "id": "f9a00e2c-db55-489c-a3df-a2f5290f4eed",
   "metadata": {},
   "source": [
    "Stored in the `\"Bikes_Company\"` schema, the data consists of 9 interconnected tables detailing company activities. These tables cover essential aspects like brands, categories, customers, orders, products, staffs, stocks, and stores. Analysis will uncover patterns and relationships to guide decisions and maximize profitability.\n"
   ]
  },
  {
   "cell_type": "markdown",
   "id": "e52e95b5-8da2-4928-886a-1c3b22ddc1ea",
   "metadata": {},
   "source": [
    "![Alt text](http://nei-gong.com/DA/Fast_Furious/Fast_Furious_03.JPG)"
   ]
  },
  {
   "cell_type": "markdown",
   "id": "6b4b3182-8399-4ee7-99f4-bcfd4c413612",
   "metadata": {},
   "source": [
    "![Alt text](http://nei-gong.com/DA/Fast_Furious/Fast_and_Furious_ALEX_SURIS_Page_04.jpg)"
   ]
  },
  {
   "cell_type": "markdown",
   "id": "a95c77e2-3b3e-4fd2-a7b2-66cc1273fb7d",
   "metadata": {},
   "source": [
    "![Alt text](http://nei-gong.com/DA/Fast_Furious/Fast_and_Furious_ALEX_SURIS_Page_05.jpg)"
   ]
  },
  {
   "cell_type": "markdown",
   "id": "964d047b-1414-4f61-8fe8-b96d7e695768",
   "metadata": {},
   "source": [
    "![Alt text](http://nei-gong.com/DA/Fast_Furious/Fast_and_Furious_ALEX_SURIS_Page_06.jpg)"
   ]
  },
  {
   "cell_type": "markdown",
   "id": "9d4ceecf-c2ce-4eed-ac4f-c4e2e320a93c",
   "metadata": {},
   "source": [
    "### Sales and Product Analysis ###"
   ]
  },
  {
   "cell_type": "markdown",
   "id": "185184c2-95d1-4d02-8b8a-c052d641c81a",
   "metadata": {},
   "source": [
    "<h2 style=\"color:blue;\">Conclusion & Recommendations</h2>\n"
   ]
  },
  {
   "cell_type": "markdown",
   "id": "6ef76613-c524-454f-9d84-45b3d7590379",
   "metadata": {},
   "source": [
    "<h2 style=\"color:green;\">Conclusion:</h2>\r\n",
    "\r\n",
    "After analyzing the sales data and product performance, several key insights have emerged regarding **Fast and Furious'** business operations:\r\n",
    "\r\n",
    "### Revenue Analysis:\r\n",
    "The analysis reveals variations in revenue across different stores, indicating potential areas for improvement in sales strategies and store management.\r\n",
    "\r\n",
    "### Product Performance:\r\n",
    "Certain products exhibit higher sales volumes and profitability compared to others, suggesting opportunities for product optimization and marketing focus.\r\n",
    "\r\n",
    "### Category Profitability:\r\n",
    "Analysis of product categories identifies the most profitable segments, which can guide resource allocation and marketing efforts.\r\n",
    "\n"
   ]
  },
  {
   "cell_type": "markdown",
   "id": "92b42461-0c15-4bd0-b57c-9025fcb8c085",
   "metadata": {},
   "source": [
    "<h2 style=\"color:green;\">Recommendations:</h2>\r\n",
    "\r\n",
    "Based on the findings, the following recommendations are proposed to enhance sales and product performance:\r\n",
    "\r\n",
    "### Store-Specific Strategies:\r\n",
    "Implement store-specific sales strategies tailored to the unique characteristics and customer demographics of each location to maximize revenue potential.\r\n",
    "\r\n",
    "### Product Portfolio Optimization:\r\n",
    "Focus on promoting and expanding product lines with high profitability and demand while phasing out or reevaluating underperforming products to streamline the product portfolio.\r\n",
    "\r\n",
    "### Targeted Marketing Campaigns:\r\n",
    "Develop targeted marketing campaigns aimed at promoting high-profit product categories and increasing customer engagement, leveraging insights from customer shopping behaviors and preferences.\r\n",
    "\r\n",
    "### Brand Partnerships and Collaborations:\r\n",
    "Explore partnerships and collaborations with high-performing brands to strengthen the product offerings and capitalize on brand loyalty and recognition.\r\n",
    "\r\n",
    "### Continuous Monitoring and Analysis:\r\n",
    "Establish a framework for continuous monitoring and analysis of sales and product performance metrics to identify emerging trends, adapt to market dynamics, and refine strategic decisions over time.\r\n",
    "\r\n",
    "**By implementing these recommendations, Fast and Furious can optimize its sales and product strategies, drive revenue growth, and maintain a competitive edge in the bicycle manufacturing and retail industry.**\r\n"
   ]
  },
  {
   "cell_type": "markdown",
   "id": "77a806c2-f645-44ca-bd2c-0982a24645ed",
   "metadata": {},
   "source": [
    "![Alt text](http://nei-gong.com/DA/Fast_Furious/Fast_and_Furious_ALEX_SURIS_Page_08.jpg)"
   ]
  },
  {
   "attachments": {},
   "cell_type": "markdown",
   "id": "dd94aa3c-73b5-4de2-aa7a-3176a3eb49fc",
   "metadata": {},
   "source": [
    "## Customer Analysis ##"
   ]
  },
  {
   "cell_type": "markdown",
   "id": "51ce927a-31ef-4854-80e7-2d3d3251d3d2",
   "metadata": {},
   "source": [
    "<h2 style=\"color:blue;\">Conclusion & Recommendations</h2>\n"
   ]
  },
  {
   "attachments": {},
   "cell_type": "markdown",
   "id": "645b0303-5c7e-48be-bdda-976aee2448dc",
   "metadata": {},
   "source": [
    "<h2 style=\"color:green;\">Conclusion:</h2>\n",
    "\n",
    "The analysis reveals a diverse range of purchasing behaviors among customers.\r\n",
    "There appears to be a positive correlation between the frequency of purchases and the average order value, indicating that customers who make more frequent purchases tend to spend more per order on average.\r\n",
    "Certain customer segments may exhibit distinct purchasing patterns, such as high-frequency, high-value customers and low-frequency, low-value customers.\r\n",
    "Understanding these purchasing behaviors is crucial for tailoring marketing strategies, optimizing product offerings, and improving customer engagement and loyaly.\r\n"
   ]
  },
  {
   "attachments": {},
   "cell_type": "markdown",
   "id": "fb9439ea-fad8-41dc-a43f-c769b8f6b24a",
   "metadata": {},
   "source": [
    "<h2 style=\"color:green;\">Recommendations:</h2>\r\n",
    "\r\n",
    "### Segmentation Strategy:\r\n",
    "Implement a segmentation strategy to categorize customers based on their purchasing behavior. This could involve dividing customers into segments such as high-value, medium-value, and low-value customers, as well as frequent buyers and occasional buyers.\r\n",
    "\r\n",
    "### Targeted Marketing Campaigns: \r\n",
    "Develop targeted marketing campaigns tailored to each customer segment. For example, high-value customers may respond well to exclusive offers or loyalty programs, while occasional buyers may benefit from incentives to increase their purchase frequency.\r\n",
    "\r\n",
    "### Personalization:\r\n",
    "Leverage customer data to personalize the shopping experience. Recommend products based on past purchase history, send personalized promotions and discounts, and communicate with customers through targeted messaging channels.\r\n",
    "\r\n",
    "### Retention Strategies:\r\n",
    "Implement strategies to improve customer retention and loyalty. This could include providing exceptional customer service, offering post-purchase support and follow-up, and continuously engaging customers through relevant communication channels.\r\n",
    "\r\n",
    "### Continuous Analysis:\r\n",
    "Regularly monitor and analyze customer purchasing behavior to identify trends, patterns, and shifts in preferences. Use this information to adapt strategies and tactics accordingly, ensuring ongoing alignment with customer needs and preferences.\r\n",
    "\r\n",
    "### Experimentation and Optimization:\r\n",
    "Experiment with different approaches and tactics to optimize customer acquisition, retention, and overall lifetime value. Test new marketing channels, messaging strategies, and promotional offers to determine what resonates most effectively with different customer segments.\r\n",
    "\r\n",
    "**By implementing these recommendations and continuously monitoring customer purchasing behavior, businesses can enhance customer satisfaction, drive revenue growth, and establish long-term relationships with their customer base.**\r\n",
    "tomer base.**\r\n",
    "tail industry.\r\n"
   ]
  },
  {
   "cell_type": "markdown",
   "id": "5b548323-c784-4148-95d4-e404375263e7",
   "metadata": {},
   "source": [
    "[![Alt text](http://nei-gong.com/DA/Fast_Furious/Fast_and_Furious_ALEX_SURIS_Page_10.jpg)](https://public.tableau.com/views/InventoryGeographicalandMarketingAnalysis/InventoryGeographicalandMarketingAnalysis)\n"
   ]
  },
  {
   "cell_type": "markdown",
   "id": "a8e74b8f-aabf-4768-8d02-56a270bce4a4",
   "metadata": {},
   "source": [
    "<a href=\"https://public.tableau.com/views/StoresEmployeeAnalysis/StoresEmployeeAnalysis\" target=\"_blank\">\n",
    "    <button style=\"padding: 10px 20px; font-size: 16px; color: white; background-color: #4CAF50; border: none; border-radius: 5px; cursor: pointer;\">\n",
    "        Watch on Public.Tableau ▶\n",
    "    </button>\n",
    "</a>\n"
   ]
  },
  {
   "attachments": {},
   "cell_type": "markdown",
   "id": "a3fc0845-8527-446f-b71f-e424daea35c5",
   "metadata": {},
   "source": [
    "## Stores & Employee Analysis ##"
   ]
  },
  {
   "cell_type": "markdown",
   "id": "455768e9-b40f-4c3b-bd25-d5e87a17be6b",
   "metadata": {},
   "source": [
    "<h2 style=\"color:blue;\">Conclusion & Recommendations</h2>\n"
   ]
  },
  {
   "attachments": {},
   "cell_type": "markdown",
   "id": "4d16f617-7cd7-4e92-b5a7-e1bd1167a20f",
   "metadata": {},
   "source": [
    "*Based on the analysis of Fast & Furious Company's store performance and employee productivity, several conclusions and recommendations can be drawn:*\r\n"
   ]
  },
  {
   "cell_type": "markdown",
   "id": "de7a0af1-2d9c-4a52-a959-16ef26403190",
   "metadata": {},
   "source": [
    "<h2 style=\"color:green;\">Conclusion:</h2>\n",
    "\n",
    "### Store Performance:\n",
    "Overall, store performance varies across locations, with some stores outperforming others in terms of sales and profitability. Inventory management appears to be a challenge, with discrepancies in stock levels and potential issues with slow-moving inventory. Customer satisfaction levels vary, indicating the need for improvement in service quality and customer experience.\n",
    "\n",
    "### Employee Productivity:\n",
    "There are differences in sales performance and customer service levels among employees, highlighting opportunities for training and development. Efficiency in order processing and task completion varies, suggesting the need for better workflow optimization and performance monitoring.\n",
    "\n",
    "### Staffing Structure:\n",
    "The staffing structure seems adequate, with managers overseeing teams in each store. There is a need to ensure proper distribution of tasks and responsibilities among employees to optimize productivity.\n"
   ]
  },
  {
   "cell_type": "markdown",
   "id": "21b31710-aa46-4e63-8eee-3409e47cc16d",
   "metadata": {},
   "source": [
    "<h2 style=\"color:green;\">Recommendations:</h2>\n",
    "\n",
    "### Inventory Management:\n",
    "Implement a robust inventory management system to track stock levels accurately and optimize replenishment processes. Conduct regular inventory audits to identify and address slow-moving or obsolete stock.\n",
    "\n",
    "### Customer Satisfaction:\n",
    "Invest in employee training programs focused on enhancing customer service skills and product knowledge. Gather customer feedback through surveys or feedback forms to identify areas for improvement and address customer concerns promptly.\n",
    "\n",
    "### Employee Development:\n",
    "Provide ongoing training and development opportunities for employees to improve sales techniques, customer service, and product knowledge. Recognize and reward top-performing employees to boost morale and motivation.\n",
    "\n",
    "### Operational Efficiency:\n",
    "Streamline order processing workflows and implement performance metrics to monitor employee efficiency and identify bottlenecks. Utilize technology solutions such as point-of-sale systems and task management tools to improve operational efficiency.\n",
    "\n",
    "### Store Expansion and Location Analysis:\n",
    "Conduct market research to identify potential locations for new stores based on demographic trends and market demand. Consider consolidating underperforming stores or relocating them to more strategic locations.\n",
    "\n",
    "### Employee Incentive Programs:\n",
    "Introduce performance-based incentive programs to reward employees for achieving sales targets and delivering exceptional customer service. Recognize and celebrate employee achievements to foster a positive work culture and improve employee retention.\n",
    "\n",
    "### Continuous Improvement:\n",
    "Regularly review store performance metrics and employee feedback to identify areas for continuous improvement. Foster a culture of innovation and collaboration to encourage employees to contribute ideas for process improvement and business growth.\n",
    "By implementing these recommendations, XL Bikes Company can enhance its store performance, improve employee productivity and satisfaction, and ultimately drive business growth and profitability.\n"
   ]
  },
  {
   "cell_type": "markdown",
   "id": "f66a2d4e-983c-4f51-806b-567aaa26bd96",
   "metadata": {},
   "source": [
    "[![Alt text](http://nei-gong.com/DA/Fast_Furious/Fast_and_Furious_ALEX_SURIS_Page_13.jpg)](https://public.tableau.com/views/InventoryGeographicalandMarketingAnalysis/InventoryGeographicalandMarketingAnalysis)\r\n"
   ]
  },
  {
   "cell_type": "markdown",
   "id": "e10b7f44-8b18-4b28-a183-a3ef595e5c76",
   "metadata": {},
   "source": [
    "<a href=\"https://public.tableau.com/views/InventoryGeographicalandMarketingAnalysis/InventoryGeographicalandMarketingAnalysis\" target=\"_blank\">\n",
    "    <button style=\"padding: 10px 20px; font-size: 16px; color: white; background-color: #4CAF50; border: none; border-radius: 5px; cursor: pointer;\">\n",
    "        Watch on Public.Tableau ▶\n",
    "    </button>\n",
    "</a>\n"
   ]
  },
  {
   "attachments": {},
   "cell_type": "markdown",
   "id": "ee5c4f42-d074-4bcb-ad3e-7e2e10e41081",
   "metadata": {},
   "source": [
    "## Inventory, Customers & Stuff Analysis ##"
   ]
  },
  {
   "cell_type": "markdown",
   "id": "0f9e66cb-dc31-4f8b-8430-96764d4f6fbe",
   "metadata": {},
   "source": [
    "<h2 style=\"color:blue;\">Conclusion & Recommendations</h2>\n"
   ]
  },
  {
   "cell_type": "markdown",
   "id": "2f1c2d5b-d3cf-4e0c-af2a-5efdbcc74cad",
   "metadata": {},
   "source": [
    "<h2 style=\"color:green;\">Conclusion:</h2>\n",
    "\n",
    "The sales distribution analysis for Fast & Furious Company reveals variations across different regions. While some regions demonstrate robust sales performance, others lag behind. Understanding these regional disparities is crucial for strategic decision-making and resource allocation.\n"
   ]
  },
  {
   "cell_type": "markdown",
   "id": "17806e58-acfe-467b-a50f-7636cb86dcc3",
   "metadata": {},
   "source": [
    "<h2 style=\"color:green;\">Recommendations:</h2>\n",
    "\n",
    "### Target Growth Opportunities:\n",
    "Allocate resources to regions with untapped potential for sales growth. Identify factors contributing to high-performing regions and replicate successful strategies in underperforming areas.\n",
    "\n",
    "### Regional Marketing Strategies:\n",
    "Tailor marketing campaigns to suit the preferences and demographics of each region. Utilize targeted advertising, promotions, and localized messaging to maximize impact and drive sales.\n",
    "\n",
    "### Inventory Management:\n",
    "Optimize inventory levels based on regional demand patterns. Ensure adequate stock levels in high-demand regions while minimizing excess inventory in slower-moving markets to enhance efficiency and reduce costs.\n",
    "\n",
    "### Customer Engagement:\n",
    "Foster stronger relationships with customers by offering personalized experiences and addressing regional preferences. Gather feedback from local customers to understand their needs and enhance satisfaction.\n",
    "\n",
    "### Staff Training and Support:\n",
    "Provide training and support to sales staff in different regions to enhance their product knowledge and customer service skills. Empower staff to effectively engage with customers and drive sales.\n"
   ]
  },
  {
   "cell_type": "markdown",
   "id": "0f056845-1463-499b-b93b-be8e64ff4cf3",
   "metadata": {},
   "source": [
    "*By implementing these recommendations, ***Fast & Furious*** Company can capitalize on regional opportunities, improve sales performance, and strengthen its market position.*\r\n"
   ]
  },
  {
   "cell_type": "markdown",
   "id": "585921a1-3715-440b-b035-eb3e589309b9",
   "metadata": {},
   "source": [
    "![Alt text](http://nei-gong.com/DA/Fast_Furious/Fast_and_Furious_ALEX_SURIS_Page_15.jpg)"
   ]
  },
  {
   "cell_type": "markdown",
   "id": "28bba39a-b14b-4fd5-aabc-d9485319b245",
   "metadata": {},
   "source": [
    "![Alt text](http://nei-gong.com/DA/Fast_Furious/Fast_and_Furious_ALEX_SURIS_Page_16.jpg)"
   ]
  },
  {
   "cell_type": "markdown",
   "id": "10b6ca37-78a0-4291-bb05-cbbce89ca09c",
   "metadata": {},
   "source": [
    "## <u>Page 3</u> ##\n"
   ]
  },
  {
   "cell_type": "markdown",
   "id": "19a9ada1-31fe-4fd8-8952-499567056495",
   "metadata": {},
   "source": [
    "The `Bikes_Company` schema houses crucial data across 9 interconnected tables, each offering insights into various facets of the company's operations.  \r\n",
    "Here's an overview:\r\n",
    "\r\n",
    "**Brands Table (brands)** and **Products Table (products)**:  \r\n",
    "**Connection**: The `brand_id` field in the Products table is linked to the `brand_id` field in the Brands table. This connection allows us to associate each product with its respective brand.\r\n",
    "\r\n",
    "**Categories Table (categories)** and **Products Table (products)**:  \r\n",
    "**Connection**: The `category_id` field in the Products table is linked to the `category_id` field in the Categories table. This connection enables categorization of products into specific bicycle categories.\r\n",
    "\r\n",
    "**Customers Table (customers)** and **Orders Table (orders)**:  \r\n",
    "**Connection**: The `customer_id` field in the Orders table is linked to the `customer_id` field in the Customers table. This connection allows us to associate each order with the respective customer who placed it.\r\n",
    "\r\n",
    "**Order Items Table (order_items)** and **Orders Table (orders)**:  \r\n",
    "**Connection**: The `order_id` field in the Order Items table is linked to the `order_id` field in the Orders table. This connection enables us to link individual items within an order to the overall order details.\r\n",
    "\r\n",
    "**Order Items Table (order_items)** and **Products Table (products)**:  \r\n",
    "**Connection**: The `product_id` field in the Order Items table is linked to the `product_id` field in the Products table. This connection allows us to identify which products are included in each order.\r\n",
    "\r\n",
    "**Orders Table (orders)** and **Stores Table (stores)**:  \r\n",
    "**Connection**: The `store_id` field in the Orders table is linked to the `store_id` field in the Stores table. This connection enables us to associate each order with the specific store from which it was made.\r\n",
    "\r\n",
    "**Products Table (products)** and **Stocks Table (stocks)**:  \r\n",
    "**Connection**: The `product_id` field in the Stocks table is linked to the `product_id` field in the Products table. Additionally, the `store_id` field in the Stocks table is linked to the `store_id` field in the Stores table. These connections allow us to track the stock levels of each product at each store.\r\n",
    "\r\n"
   ]
  },
  {
   "cell_type": "markdown",
   "id": "e07e64c6-bbec-4dc0-8795-c3ef63252a5d",
   "metadata": {},
   "source": [
    "```sql\n",
    "Brands Table: [Bikes_Company].[brands].\n",
    "Connected Fields: brand_id (Primary Key)\n",
    "Purpose: Stores information about bicycle brands.\n",
    "Columns: brand_id (unique identifier), brand_name.\n",
    "Query: SELECT * \n",
    "             FROM [Bikes_Company].[brands].\n",
    "\n",
    "Categories Table:\n",
    "Connected Fields: category_id (Primary Key)\n",
    "Purpose: Holds data regarding bicycle categories.\n",
    "Columns: category_id (unique identifier), category_name.\n",
    "Query: SELECT * \n",
    "              FROM [Bikes_Company].[categories].\n",
    "\n",
    "Customers Table:\n",
    "Connected Fields: customer_id (Primary Key)\n",
    "Purpose: Contains details of the company's customers.\n",
    "\n",
    "\n"
   ]
  },
  {
   "cell_type": "markdown",
   "id": "3387b172-e607-4406-a4e4-5ceed52814cd",
   "metadata": {},
   "source": [
    "```sql\n",
    "Columns: customer_id (unique identifier), first_name, last_name, \n",
    "phone, email, street, city, state, zip_code.\n",
    "Query: SELECT * \n",
    "              FROM [Bikes_Company].[customers].\n",
    "\n",
    "Order Items Table:\n",
    "Connected Fields: order_id, product_id\n",
    "Purpose: Tracks items included in each order.\n",
    "Columns: order_id, item_id, product_id, quantity, list_price, discount.\n",
    "Query: SELECT * \n",
    "             FROM [Bikes_Company].[order_items].\n",
    "\n",
    "Orders Table:\n",
    "Connected Fields: order_id, customer_id, store_id\n",
    "Purpose: Stores order details such as status and dates.\n",
    "Columns: order_id, customer_id, order_status, order_date, required_date, \n",
    "shipped_date, store_id, staff_id.\n",
    "Query: SELECT * \n",
    "             FROM [Bikes_Company].[orders]."
   ]
  },
  {
   "cell_type": "markdown",
   "id": "5fb53129-8a4d-4cb6-a2fa-e150c1d44948",
   "metadata": {},
   "source": [
    "```sql\n",
    "Products Table:\n",
    "Connected Fields: product_id, brand_id, category_id\n",
    "Purpose: Contains information about bicycle products.\n",
    "Columns: product_id (unique identifier), product_name, brand_id, category_id, model_year, list_price.\n",
    "Query: SELECT * \n",
    "              FROM [Bikes_Company].[products].\n",
    "\n",
    "Staffs Table:\n",
    "Connected Fields: staff_id, store_id\n",
    "Purpose: Holds data regarding company staff.\n",
    "Columns: staff_id (unique identifier), first_name, last_name, email, phone, active, store_id, manager_id.\n",
    "Query: SELECT * \n",
    "              FROM [Bikes_Company].[staffs].\n",
    "\n",
    "Stocks Table:\n",
    "Connected Fields: store_id, product_id\n",
    "Purpose: Tracks product stock levels at each store.\n",
    "Columns: store_id, product_id, quantity.\n",
    "Query: SELECT * \n",
    "              FROM [Bikes_Company].[stocks].\n",
    "\n",
    "Stores Table:\n",
    "Connected Fields: store_id (Primary Key)\n",
    "Purpose: Stores details about company stores.\n",
    "Columns: store_id (unique identifier), store_name, phone, email, street, city, state, zip_code.\n",
    "Query: SELECT * \n",
    "              FROM [Bikes_Company].[stores]."
   ]
  },
  {
   "cell_type": "markdown",
   "id": "b7642609-884c-4478-b9c2-5c8f510e2fbd",
   "metadata": {},
   "source": [
    "Each table contains unique identifiers (*_id) ensuring data integrity and facilitating table connections. \n",
    "The data types across tables vary, with primary keys typically being integers (INT) and textual data stored as VARCHAR or TEXT. \n",
    "These tables are interconnected through common fields such as brand_id, category_id, customer_id, product_id, and store_id,  enabling comprehensive analysis and strategic decision-making.\n"
   ]
  },
  {
   "cell_type": "markdown",
   "id": "2864b635-1f7e-41bf-9b9d-bae8ee18e5fc",
   "metadata": {},
   "source": [
    "## <u>Page 4</u> ##\n"
   ]
  },
  {
   "cell_type": "markdown",
   "id": "97ff3d3e-aaec-4291-8697-7c10be361e77",
   "metadata": {},
   "source": [
    "## ABOUT FAST & FURIOUS ##"
   ]
  },
  {
   "cell_type": "markdown",
   "id": "dd72d5fd-df4f-4f17-93bc-ee5f7921c17f",
   "metadata": {},
   "source": [
    "***PROOF OF THE BUISNESS MODEL:***"
   ]
  },
  {
   "cell_type": "markdown",
   "id": "d683750d-da3d-44f1-836c-dd545814333d",
   "metadata": {},
   "source": [
    "```sql\r\n",
    "-- Verify sales data\r\n",
    "SELECT COUNT(*) AS total_orders\u000b",
    "FROM [Bikes_Company].[orderCompany].[staffs]"
   ]
  },
  {
   "cell_type": "markdown",
   "id": "6247bcda-0d9e-4b4b-8f52-6aa86490bd58",
   "metadata": {},
   "source": [
    "```sql\n",
    "-- Verify inventory\n",
    "SELECT s.store_id, s.product_id, s.quantity\n",
    "FROM [Bikes_Company].[stocks] s\n",
    "JOIN [Bikes_Company].[products] p \n",
    "ON s.product_id = p.product_id\n",
    "ORDER BY s.store_id, s.product_id\n",
    "    \n",
    "-- Verify customers\n",
    "SELECT COUNT(*) AS total_customers\n",
    "FROM [Bikes_Company].[customers]\n",
    "    \n",
    "-- Verify products\n",
    "SELECT COUNT(*) AS total_products\n",
    "FROM [Bikes_Company].[products]\n",
    "    \n",
    "-- Verify staff\n",
    "SELECT COUNT(*) AS total_staff\n",
    "FROM [Bikes_Company].[staffs]"
   ]
  },
  {
   "cell_type": "markdown",
   "id": "21d6b48f-a307-4190-95b4-a4b56a32718e",
   "metadata": {},
   "source": [
    "These queries use SQL to validate and retrieve important data from the tables in the `Bikes_Company` database. They check sales data, inventory, customer records, product counts, staff counts, and store counts. Each query is structured using `SELECT`, `FROM`, `JOIN`, `ON`, and `ORDER BY` clauses to efficiently retrieve and organize the information.\r\n"
   ]
  },
  {
   "cell_type": "markdown",
   "id": "7f52abae-63d6-48e6-907c-1a56c9add91c",
   "metadata": {},
   "source": [
    "## <u>Page 6</u> ##\n"
   ]
  },
  {
   "attachments": {},
   "cell_type": "markdown",
   "id": "a3ae516a-6f71-401a-9892-3c7eafbadf27",
   "metadata": {},
   "source": [
    "## GENERAL DATA ANALYSIS  ##"
   ]
  },
  {
   "cell_type": "markdown",
   "id": "d997aedc-1bc4-4b6b-9009-54109d429164",
   "metadata": {},
   "source": [
    "***PROOF OF THE GENERAL DATA ANALYSIS:***"
   ]
  },
  {
   "cell_type": "markdown",
   "id": "dfb924c7-c42a-4cde-a3ec-ca6815ea91ec",
   "metadata": {},
   "source": [
    "```sql\n",
    "-- Sales Analysis\n",
    "SELECT CONVERT(varchar(7), order_date, 120) AS month,\n",
    "SUM(CONVERT(decimal(18,2), oi.quantity) * CONVERT(decimal(18,2), p.list_price)) AS total_revenue\n",
    "FROM [Bikes_Company].[orders] o\n",
    "JOIN [Bikes_Company].[order_items] oi ON o.order_id = oi.order_id\n",
    "JOIN [Bikes_Company].[products] p ON oi.product_id = p.product_id\n",
    "GROUP BY CONVERT(varchar(7), order_date, 120)\n",
    "ORDER BY CONVERT(varchar(7), order_date, 120)"
   ]
  },
  {
   "cell_type": "markdown",
   "id": "d8595d9b-64ce-4da9-b7b8-353fd66b9b44",
   "metadata": {},
   "source": [
    "```sql\n",
    "-- Product Analysis\n",
    "SELECT p.product_name,\n",
    "     SUM(CONVERT(int, oi.quantity)) AS total_sales\n",
    "FROM [Bikes_Company].[order_items] oi\n",
    "JOIN [Bikes_Company].[products] p ON oi.product_id = p.product_id\n",
    "GROUP BY p.product_name\u000b",
    "ORDER BY total_sales DESC"
   ]
  },
  {
   "cell_type": "markdown",
   "id": "5a037668-6fb1-4492-94fd-2fe93925e8a5",
   "metadata": {},
   "source": [
    "***TABLES CONNECTIONS. TABLEAU DATA SOURCE:***"
   ]
  },
  {
   "cell_type": "markdown",
   "id": "67c1dd16-e632-4b06-b0a3-1ab44b276bc2",
   "metadata": {},
   "source": [
    "![Alt text](http://nei-gong.com/DA/Fast_Furious/Fast_and_Furious_ALEX_SURIS_Page_23.jpg)"
   ]
  },
  {
   "cell_type": "markdown",
   "id": "0a1b425e-c79b-4861-9bb5-64ce39f9cfaf",
   "metadata": {},
   "source": [
    "![Alt text](http://nei-gong.com/DA/Fast_Furious/Fast_and_Furious_ALEX_SURIS_Page_24.jpg)"
   ]
  },
  {
   "cell_type": "markdown",
   "id": "e1d9c968-bcd2-464b-9e09-5d1b3db5b76d",
   "metadata": {},
   "source": [
    "![Alt text](http://nei-gong.com/DA/Fast_Furious/Fast_and_Furious_ALEX_SURIS_Page_25.jpg)"
   ]
  },
  {
   "attachments": {},
   "cell_type": "markdown",
   "id": "343df28f-1bbc-4153-949a-6bea2c237b8c",
   "metadata": {},
   "source": [
    "***TABLEAU CHART OF THE SALES ANALYSIS CREATION AND THE BEST SELLING PRODUCTS***"
   ]
  },
  {
   "cell_type": "markdown",
   "id": "ac4051df-4ade-4a1a-96cc-1d474f5838b0",
   "metadata": {},
   "source": [
    "![Alt text](http://nei-gong.com/DA/Fast_Furious/Fast_and_Furious_ALEX_SURIS_Page_26.JPG)"
   ]
  },
  {
   "cell_type": "markdown",
   "id": "0e1a3545-e8f7-45f3-aef1-fc9f459aa219",
   "metadata": {},
   "source": [
    "![Alt text](http://nei-gong.com/DA/Fast_Furious/Fast_and_Furious_ALEX_SURIS_Page_27.JPG)"
   ]
  },
  {
   "cell_type": "markdown",
   "id": "b04185cd-a92e-4356-900b-05d164e81304",
   "metadata": {
    "jp-MarkdownHeadingCollapsed": true
   },
   "source": [
    "## <u>Page 8</u> ##\n"
   ]
  },
  {
   "attachments": {},
   "cell_type": "markdown",
   "id": "44736145-e98d-452d-b840-e384c3aa326e",
   "metadata": {},
   "source": [
    "## CUSTOMER ANALYSIS  ##"
   ]
  },
  {
   "cell_type": "markdown",
   "id": "d21581fa-925f-46bd-ba1f-03b5fae4c7b9",
   "metadata": {},
   "source": [
    "***PROOF OF THE CUSTOMER DATA ANALYSIS:***"
   ]
  },
  {
   "cell_type": "markdown",
   "id": "9e304a3d-a6bd-4a9b-8d0f-a068dd72f6c0",
   "metadata": {},
   "source": [
    "```sql\n",
    "--Customer Analysis\n",
    "SELECT COUNT(DISTINCT customer_id) \n",
    "AS total_customers,\n",
    "AVG(DATEDIFF(day, order_date, shipped_date)) \n",
    "AS avg_delivery_time\n",
    "    FROM [Bikes_Company].[orders]\n"
   ]
  },
  {
   "attachments": {},
   "cell_type": "markdown",
   "id": "307a3bbf-6411-4322-a031-7a4fb3d0b319",
   "metadata": {},
   "source": [
    "***TABLEAU CHART OF THE CUSTOMER PURCHASING BEHAVIOR***"
   ]
  },
  {
   "cell_type": "markdown",
   "id": "d8873e26-7b40-4389-8b7a-720cfe66006a",
   "metadata": {},
   "source": [
    "![Alt text](http://nei-gong.com/DA/Fast_Furious/Fast_and_Furious_ALEX_SURIS_Page_28.JPG)"
   ]
  },
  {
   "cell_type": "markdown",
   "id": "fe368b48-38c6-47ca-8dfa-abe122d0e11c",
   "metadata": {
    "jp-MarkdownHeadingCollapsed": true
   },
   "source": [
    "## <u>Page 10</u> ##\n"
   ]
  },
  {
   "attachments": {},
   "cell_type": "markdown",
   "id": "9a101318-498e-42ac-b226-ca3968366ac2",
   "metadata": {},
   "source": [
    "## STORES & EMPLOYEE ANALYSIS  ##"
   ]
  },
  {
   "attachments": {},
   "cell_type": "markdown",
   "id": "37b03092-2f37-4b4c-b189-3013a5ea1131",
   "metadata": {},
   "source": [
    "***TABLEAU CHARTS OF THE STORES & EMPLOYEE ANALYSIS***"
   ]
  },
  {
   "cell_type": "markdown",
   "id": "cc764b59-5de1-4fe0-8be1-40e7aa216e93",
   "metadata": {},
   "source": [
    "[![Alt text](http://nei-gong.com/DA/Fast_Furious/Fast_and_Furious_ALEX_SURIS_Page_29.JPG)](https://public.tableau.com/app/profile/alexander.suris/viz/SaslsePerformance/SalesPerformance)\r\n"
   ]
  },
  {
   "cell_type": "markdown",
   "id": "3b8ceafe-2c84-4cd6-9d80-687e31b00d4e",
   "metadata": {},
   "source": [
    "[![Alt text](http://nei-gong.com/DA/Fast_Furious/Fast_and_Furious_ALEX_SURIS_Page_30.JPG)](https://public.tableau.com/app/profile/alexander.suris/viz/Profitability_17143818791230/Profitability)\r\n"
   ]
  },
  {
   "cell_type": "markdown",
   "id": "6717b32a-7140-487e-b10b-47758fafdf9e",
   "metadata": {
    "jp-MarkdownHeadingCollapsed": true
   },
   "source": [
    "***TABLEAU TABELE CONNECTION SCHEME***"
   ]
  },
  {
   "cell_type": "code",
   "execution_count": null,
   "id": "74b0db95-c5cf-46fe-8dab-3902599c1657",
   "metadata": {},
   "outputs": [],
   "source": []
  },
  {
   "cell_type": "markdown",
   "id": "5cecf610-f845-4513-a9b5-fdcee52bef70",
   "metadata": {},
   "source": [
    "***TABLEAU TABELE CONNECTION SCHEME***"
   ]
  },
  {
   "cell_type": "markdown",
   "id": "71f871bf-693f-42ad-93f2-448a19543311",
   "metadata": {},
   "source": [
    "![Alt text](http://nei-gong.com/DA/Fast_Furious/Fast_and_Furious_ALEX_SURIS_Page_31.JPG)"
   ]
  },
  {
   "attachments": {},
   "cell_type": "markdown",
   "id": "55e773b2-720f-466b-8b69-d2d19e03f264",
   "metadata": {},
   "source": [
    "***TABLEAU CHARTS OF THE STORES & EMPLOYEE ANALYSIS***"
   ]
  },
  {
   "cell_type": "markdown",
   "id": "851ed5db-96f0-43c9-bc09-4ccca1209e8c",
   "metadata": {},
   "source": [
    "![Alt text](http://nei-gong.com/DA/Fast_Furious/Fast_and_Furious_ALEX_SURIS_Page_32.JPG)\r\n"
   ]
  },
  {
   "cell_type": "markdown",
   "id": "d059a864-bb4f-4722-a4ca-19773baa750d",
   "metadata": {},
   "source": [
    "![Alt text](http://nei-gong.com/DA/Fast_Furious/Fast_and_Furious_ALEX_SURIS_Page_33.JPG)\r\n"
   ]
  },
  {
   "cell_type": "markdown",
   "id": "c702c917-e953-4202-9dd2-d9637ab9fa3e",
   "metadata": {},
   "source": [
    "<a href=\"https://public.tableau.com/app/profile/alexander.suris/viz/StoresEmployeeAnalysis/StoresEmployeeAnalysis\" target=\"_blank\">\n",
    "    <button style=\"padding: 10px 20px; font-size: 16px; color: white; background-color: #4CAF50; border: none; border-radius: 5px; cursor: pointer;\">\n",
    "        Watch on Public.Tableau ▶\n",
    "    </button>\n",
    "</a>\n"
   ]
  },
  {
   "cell_type": "markdown",
   "id": "8cd59fe6-a7cb-48ba-ac15-2ec974dff0b4",
   "metadata": {
    "jp-MarkdownHeadingCollapsed": true
   },
   "source": [
    "## <u>Page 13</u> ##\n"
   ]
  },
  {
   "attachments": {},
   "cell_type": "markdown",
   "id": "0dde74a1-74cc-4eac-9945-a4e6a5ca4003",
   "metadata": {},
   "source": [
    "## INVENTORY, CUSTOMERS & STUFF ANALYSIS ##"
   ]
  },
  {
   "attachments": {},
   "cell_type": "markdown",
   "id": "be5c9ad5-daca-48e6-9b99-29d7fa3f8f43",
   "metadata": {
    "jp-MarkdownHeadingCollapsed": true
   },
   "source": [
    "***TABLEAU CHARTS OF THE STORES & EMPLOYEE ANALYSIS***"
   ]
  },
  {
   "cell_type": "markdown",
   "id": "5c21e7d5-13a4-4a2a-b8ab-dc901624e23a",
   "metadata": {},
   "source": [
    "```sql\n",
    "-- Inventory Analysis\n",
    "SELECT s.store_id, p.product_name, s.quantity\n",
    "FROM [Bikes_Company].[stocks] s\n",
    "JOIN [Bikes_Company].[products] p ON s.product_id = p.product_id\n",
    "Staff Performance\n",
    "    SELECT CONCAT(s.first_name, ' ', s.last_name) AS staff_name,\n",
    "           COUNT(o.order_id) AS total_orders\n",
    "    FROM [Bikes_Company].[orders] o\n",
    "    JOIN [Bikes_Company].[staffs] s ON o.staff_id = s.staff_id\n",
    "    GROUP BY CONCAT(s.first_name, ' ', s.last_name)\n",
    "    ORDER BY total_orders DESC"
   ]
  },
  {
   "cell_type": "markdown",
   "id": "d5be7f06-233d-4f1c-8180-5872cfc6e1b4",
   "metadata": {},
   "source": [
    "```sql\n",
    "--distribution by region\n",
    "SELECT s.state AS region,\n",
    "SUM(CAST(oi.quantity AS INT) * CAST(oi.list_price AS DECIMAL(10, 2)) * \n",
    "(1 - CAST(oi.discount AS DECIMAL(10, 2)))) AS total_sales\n",
    "FROM [Bikes_Company].[orders] o\n",
    "JOIN      \n",
    "     [Bikes_Company].[customers] c ON o.customer_id = c.customer_id\n",
    "JOIN      \n",
    "     [Bikes_Company].[stores] s ON o.store_id = s.store_id\n",
    "JOIN      \n",
    "     [Bikes_Company].[order_items] oi ON o.order_id = oi.order_id\n",
    "JOIN      \n",
    "     [Bikes_Company].[products] p ON oi.product_id = p.product_id\n",
    "JOIN   \n",
    "     [Bikes_Company].[categories] cat ON p.category_id = cat.category_id\n",
    "GROUP BY s.state"
   ]
  },
  {
   "cell_type": "markdown",
   "id": "5f29ca30-fb13-436d-8084-9db5da91ba25",
   "metadata": {},
   "source": [
    "![Alt text](http://nei-gong.com/DA/Fast_Furious/Fast_and_Furious_ALEX_SURIS_Page_35.JPG)\r\n"
   ]
  },
  {
   "cell_type": "markdown",
   "id": "ac0b0f2f-b365-4678-a690-ce64ae671d03",
   "metadata": {},
   "source": [
    "![Alt text](http://nei-gong.com/DA/Fast_Furious/Fast_and_Furious_ALEX_SURIS_Page_34.JPG)\r\n"
   ]
  },
  {
   "cell_type": "markdown",
   "id": "e0416e6c-4a20-4d21-ae69-411d1b844dad",
   "metadata": {},
   "source": [
    "[![Alt text](http://nei-gong.com/DA/Fast_Furious/Fast_and_Furious_ALEX_SURIS_Page_41.JPG)](https://public.tableau.com/app/profile/alexander.suris/viz/InventoryGeographicalandMarketingAnalysis/InventoryGeographicalandMarketingAnalysis)\r\n"
   ]
  },
  {
   "cell_type": "markdown",
   "id": "6cc29992-eb17-47a5-ba59-0dceca50783d",
   "metadata": {},
   "source": [
    "<a href=\"https://public.tableau.com/app/profile/alexander.suris/viz/InventoryGeographicalandMarketingAnalysis/InventoryGeographicalandMarketingAnalysis\" target=\"_blank\">\n",
    "    <button style=\"padding: 10px 20px; font-size: 16px; color: white; background-color: #4CAF50; border: none; border-radius: 5px; cursor: pointer;\">\n",
    "        Watch on Public.Tableau ▶\n",
    "    </button>\n",
    "</a>\n"
   ]
  },
  {
   "cell_type": "code",
   "execution_count": null,
   "id": "498a1539-9bd2-4c63-a02d-77100a9b02f1",
   "metadata": {},
   "outputs": [],
   "source": []
  }
 ],
 "metadata": {
  "kernelspec": {
   "display_name": "Python 3 (ipykernel)",
   "language": "python",
   "name": "python3"
  },
  "language_info": {
   "codemirror_mode": {
    "name": "ipython",
    "version": 3
   },
   "file_extension": ".py",
   "mimetype": "text/x-python",
   "name": "python",
   "nbconvert_exporter": "python",
   "pygments_lexer": "ipython3",
   "version": "3.12.4"
  }
 },
 "nbformat": 4,
 "nbformat_minor": 5
}
