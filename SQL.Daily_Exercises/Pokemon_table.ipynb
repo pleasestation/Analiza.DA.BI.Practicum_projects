{
 "cells": [
  {
   "cell_type": "markdown",
   "id": "cc3ba64d-31d6-4c10-83e3-e509033db873",
   "metadata": {},
   "source": [
    "# Pokemon Table Exercises"
   ]
  },
  {
   "cell_type": "raw",
   "id": "5369935e-87a9-4c68-8e93-5b490c371dac",
   "metadata": {},
   "source": [
    "1. Show all pokemon that have more than 70 hp\n",
    "a. Show only the pokemons’ names'"
   ]
  },
  {
   "cell_type": "markdown",
   "id": "e5aed526-1ca7-4a98-b270-e60b1d44942d",
   "metadata": {},
   "source": [
    "# A. show only the pokemons’ names'"
   ]
  },
  {
   "cell_type": "raw",
   "id": "368def78-c399-4719-8dda-3c09b76426de",
   "metadata": {},
   "source": [
    "SELECT *\n",
    "FROM [dbo].[pokemon]\n",
    "WHERE HP > 70;"
   ]
  },
  {
   "cell_type": "raw",
   "id": "9dc5befb-4ab9-4fb9-91ce-e071b01b6acd",
   "metadata": {},
   "source": [
    "explanation:\n",
    "\n",
    "SELECT *: This selects all columns from the table.\n",
    "FROM Pokemon: This specifies the table from which to retrieve the data.\n",
    "WHERE HP > 70: This filters the results to include only those Pokémon with HP greater than 70."
   ]
  },
  {
   "cell_type": "raw",
   "id": "abcc7ab6-31d7-46a2-9d94-b3e6848cfbaf",
   "metadata": {},
   "source": [
    "2. Show all pokemon that have a primary color of red\n",
    "a. In addition, show all pokemon that can evolve\n",
    "b. Show only their name, pokedex number and their abilities"
   ]
  },
  {
   "cell_type": "markdown",
   "id": "1a0ccd60-fa9d-4b19-84b3-0baebff8feaf",
   "metadata": {},
   "source": [
    "# A. in addition, show all pokemon that can evolve"
   ]
  },
  {
   "cell_type": "code",
   "execution_count": null,
   "id": "49c0fac3-c4a5-44b6-ac1e-b1fa757dee6f",
   "metadata": {},
   "outputs": [],
   "source": []
  }
 ],
 "metadata": {
  "kernelspec": {
   "display_name": "Python 3 (ipykernel)",
   "language": "python",
   "name": "python3"
  },
  "language_info": {
   "codemirror_mode": {
    "name": "ipython",
    "version": 3
   },
   "file_extension": ".py",
   "mimetype": "text/x-python",
   "name": "python",
   "nbconvert_exporter": "python",
   "pygments_lexer": "ipython3",
   "version": "3.12.4"
  }
  ],
  "metadata": {},
  "nbformat": 4,
  "nbformat_minor": 2
}
