{
 "cells": [
  {
   "cell_type": "markdown",
   "id": "9cd7e251-bfa2-4708-8f38-b89f6d8af698",
   "metadata": {},
   "source": [
    "# SQL Summary exercise #1"
   ]
  },
  {
   "cell_type": "markdown",
   "id": "0e848bb0-69bd-4aac-990d-934b64e20bd0",
   "metadata": {},
   "source": [
    "Knowledge required:\r\n",
    "- Select & From clauses\r\n",
    "- Filter & Sort (Where & order by clauses)\r\n",
    "- Scalar functions\r\n",
    "- Conversion functions\r\n",
    "- Aggregate & analytic functions\r\n",
    "- Union, intersect, except\r\n",
    "- Subquery\r\n",
    "bquery\r\n"
   ]
  },
  {
   "cell_type": "markdown",
   "id": "d80613a4-dc04-4d2a-81ed-f79f1f5de3bd",
   "metadata": {},
   "source": [
    "# “Pokemon” table:"
   ]
  },
  {
   "cell_type": "markdown",
   "id": "7081c40b-eba2-4216-b16a-ff57415c6797",
   "metadata": {},
   "source": [
    "**01. Present all the pokemons with the letter R in their name.**"
   ]
  },
  {
   "cell_type": "markdown",
   "id": "1bda964e-de36-4b52-bff6-07898d2a26f0",
   "metadata": {},
   "source": [
    "```sql\n",
    "\r\n",
    "SELECT *\r\n",
    "FROM [dbo].[pokemon]\r\n",
    "WHERE Name LIKE '\n",
    "\n",
    "[dbo].[pokemon]\r\n",
    "%'\r\n",
    "M [dbo].[pokemon]\r\n",
    "M [dbo].[pokemon]\r\n"
   ]
  },
  {
   "cell_type": "markdown",
   "id": "3141e672-e2a7-49be-bad6-416e353be592",
   "metadata": {},
   "source": [
    "**02. Order all the pokemons by their weight in descending order.**"
   ]
  },
  {
   "cell_type": "markdown",
   "id": "919f9495-4c36-4ea0-99bc-5ccea65926a5",
   "metadata": {},
   "source": [
    "```sql\n",
    "SELECT *\n",
    "FROM [dbo].[pokemon]\n",
    "ORDER BY Weight DESC\n",
    "\n"
   ]
  },
  {
   "cell_type": "markdown",
   "id": "c2c8d469-0c7b-420e-b4d9-0c34a7e1f70d",
   "metadata": {},
   "source": [
    "**03. Present the pokemons’ names in lowercase.**"
   ]
  },
  {
   "cell_type": "markdown",
   "id": "b3255615-d4d6-4bc3-bc53-542add75eab8",
   "metadata": {},
   "source": [
    "```sql\n",
    "SELECT LOWER(name) AS lowercase_name\n",
    "FROM [dbo].[pokemon]"
   ]
  },
  {
   "cell_type": "markdown",
   "id": "50a8e908-04bd-4566-9997-f93b3e08b8fc",
   "metadata": {},
   "source": [
    "# “DsOne_orders” table:"
   ]
  },
  {
   "cell_type": "markdown",
   "id": "cb4b30a8-7c6f-492b-af53-07744d562f39",
   "metadata": {},
   "source": [
    "**01. For all the orders in the “Office Supplies” category that shipped in 2019, \r\n",
    "    calculate the average number of days to ship.**"
   ]
  },
  {
   "cell_type": "markdown",
   "id": "6a09812b-5f09-4c86-9dee-7521a7733ca9",
   "metadata": {},
   "source": [
    "```sql\n",
    "SELECT AVG(days_to_ship) AS avg_days_to_ship\n",
    "FROM [dbo].[DsOne_orders]\n",
    "WHERE category = 'Office Supplies'\n",
    "AND YEAR(ship_date) = 2019"
   ]
  },
  {
   "cell_type": "markdown",
   "id": "5f3c1c62-9cfa-4c96-bf7e-c208d641c922",
   "metadata": {},
   "source": [
    "**02. For all the orders placed on Monday, calculate the average length of the products’ names.**"
   ]
  },
  {
   "cell_type": "markdown",
   "id": "127bcf4b-9b08-459d-afea-71a15ecaba28",
   "metadata": {},
   "source": [
    "```sql\n",
    "SELECT AVG(LEN(product_name)) AS average_product_name_length\n",
    "FROM [dbo].[DsOne_orders]\n",
    "WHERE DATEPART(WEEKDAY, order_date) = 2\n"
   ]
  },
  {
   "cell_type": "markdown",
   "id": "ec4616d1-10c4-44f6-84a8-9e3749b223dc",
   "metadata": {},
   "source": [
    "**03. Which city has the largest total sales amount? Present the city, the sales amount, and the state.**"
   ]
  },
  {
   "cell_type": "markdown",
   "id": "93012cf0-ef7d-4434-9551-440a91c8d6e2",
   "metadata": {},
   "source": [
    "```sql\n",
    "SELECT TOP 1 city, state, SUM(sales) AS total_sales_amount\r\n",
    "FROM [dbo].[DsOne_orders]\r\n",
    "WHERE sales IS NOT NULL\r\n",
    "GROUP BY city, state\r\n",
    "ORDER BY total_sales_amount DESC\r\n"
   ]
  },
  {
   "cell_type": "markdown",
   "id": "d1c7990a-eebd-4011-ab9f-e682d8e3c47a",
   "metadata": {},
   "source": [
    "**04. Find the state with the highest number of customers whose names include the letter \"C\". Then, within that state, figure out how many customers with the letter \"C\" in their names live in each city. Do this using only one query.**"
   ]
  },
  {
   "cell_type": "markdown",
   "id": "f56bc350-91dd-43fb-a461-37bfad572390",
   "metadata": {},
   "source": [
    "```sql\n",
    "WITH CustomersWithC AS (\n",
    "    SELECT state, city,\n",
    "        COUNT(DISTINCT customer_id) AS num_customers_with_c\n",
    "    FROM [dbo].[DsOne_orders]\n",
    "    WHERE customer_name LIKE '%C%'\n",
    "    GROUP BY state, city\n",
    "), \n",
    "MaxCustomersState AS (\n",
    "    SELECT TOP 1 state,\n",
    "        COUNT(DISTINCT customer_id) AS num_customers_with_c\n",
    "    FROM [dbo].[DsOne_orders]\n",
    "    WHERE customer_name LIKE '%C%'\n",
    "    GROUP BY state\n",
    "    ORDER BY COUNT(DISTINCT customer_id) DESC\n",
    ")\n",
    "SELECT c.state, c.city,\n",
    "    c.num_customers_with_c\n",
    "FROM CustomersWithC c\n",
    "JOIN MaxCustomersState m ON c.state = m.state\n",
    "\n"
   ]
  },
  {
   "cell_type": "markdown",
   "id": "8d56adaf-0e0d-4587-a508-d8bccbb71873",
   "metadata": {},
   "source": [
    "# “Data_auto” tables:"
   ]
  },
  {
   "cell_type": "markdown",
   "id": "1cb19dff-b9a5-4eeb-9372-9ddbdd47105e",
   "metadata": {},
   "source": [
    "**01. November table - What is the total cost of Ferrari ads placed on Sunday?**"
   ]
  },
  {
   "cell_type": "markdown",
   "id": "0b66ef4c-40a5-4663-b020-42975f73e4b3",
   "metadata": {},
   "source": [
    "```sql\n",
    "SELECT SUM(cost) AS total_cost\r\n",
    "FROM [dbo].[data_auto_November]\r\n",
    "WHERE Advertiser = 'Ferrari'\r\n",
    "AND [Day of Week] = 'Sunday'\r\n"
   ]
  },
  {
   "cell_type": "markdown",
   "id": "48bc9384-859c-4d0b-af5f-5bc9bd2a158e",
   "metadata": {},
   "source": [
    "**02. Union both of the tables (October & November) - once with “union all”,  once with “union”. \r\n",
    "Is there a difference between both queries? What does it mea**n?\r\n"
   ]
  },
  {
   "cell_type": "markdown",
   "id": "91507510-55d6-493e-9b39-328dbe6b1c95",
   "metadata": {},
   "source": [
    "```sql\n",
    "-- Union all of the tables (October & November)\n",
    "SELECT * FROM [dbo].[data_auto_October]\n",
    "UNION ALL\n",
    "SELECT * FROM [dbo].[data_auto_November]\n",
    "\n",
    "-- Union of the tables (October & November)\n",
    "SELECT * FROM [dbo].[data_auto_October]\n",
    "UNION\n",
    "SELECT * FROM [dbo].[data_auto_November]\n"
   ]
  },
  {
   "cell_type": "raw",
   "id": "4a04fb4e-1d2f-44a4-b318-0e9b86b45d1a",
   "metadata": {},
   "source": [
    "The difference between the two queries lies in how they handle duplicate rows. \n",
    "Using UNION removes duplicate rows, while UNION ALL includes all rows, even if they are duplicates.\n"
   ]
  },
  {
   "cell_type": "markdown",
   "id": "fe251386-aa76-4f20-80a9-f9f4dcf80482",
   "metadata": {},
   "source": [
    "**03. Without performing a query - Using the conclusions from section 2, \n",
    "    if we perform “intersect” between the 2 tables, what will be the result?**\n"
   ]
  },
  {
   "cell_type": "markdown",
   "id": "71499994-948c-429c-a733-be2ec933bfd1",
   "metadata": {},
   "source": [
    "From the definitions of UNION, UNION ALL, and INTERSECT, I can draw the following conclusions:\r\n",
    "Union (UNION):\r\n",
    "Combines the results of multiple SELECT statements. Removes duplicate rows from the result set.\r\n",
    "Produces a result set containing distinct rows only. Useful when you want to merge data sets and remove duplicates.\r\n",
    "Union All (UNION ALL):\r\n",
    "Combines the results of multiple SELECT statements. Includes all rows from the result sets, even if they are duplicates. Does not perform any duplicate removal. Useful when you want to combine data sets without eliminating duplicates.\r\n",
    "Intersect (INTERSECT):\r\n",
    "Returns the intersection of the results of two or more SELECT statements. Only includes rows that appear in all result sets. Returns an empty result set if there are no common rows. Useful when you want to find common elements between datasets. These conclusions highlight the differences in behavior between these set operators and provide insights into  when to use each one based on the desired outcome for your query. Understanding these distinctions allows  for more precise and effective manipulation of data in SQL queries.\r\n"
   ]
  },
  {
   "cell_type": "code",
   "execution_count": null,
   "id": "72ec5cf9-6bdd-4afd-a77c-3c5f9a4358d3",
   "metadata": {},
   "outputs": [],
   "source": []
  }
 ],
 "metadata": {
  "kernelspec": {
   "display_name": "Python 3 (ipykernel)",
   "language": "python",
   "name": "python3"
  },
  "language_info": {
   "codemirror_mode": {
    "name": "ipython",
    "version": 3
   },
   "file_extension": ".py",
   "mimetype": "text/x-python",
   "name": "python",
   "nbconvert_exporter": "python",
   "pygments_lexer": "ipython3",
   "version": "3.12.4"
  }
 },
 "nbformat": 4,
 "nbformat_minor": 5
}
