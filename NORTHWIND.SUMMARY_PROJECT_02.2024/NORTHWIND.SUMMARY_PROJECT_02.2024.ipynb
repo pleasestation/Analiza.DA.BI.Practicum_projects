{
 "cells": [
  {
   "cell_type": "markdown",
   "id": "3d5491ef-4ca2-44ae-897d-46255c85986b",
   "metadata": {},
   "source": [
    "![Description of the image](https://nei-gong.com/DA/NORTHWIND/NORTHWIND_Page_01.jpg)\n"
   ]
  },
  {
   "cell_type": "markdown",
   "id": "98010421-f2fd-49dd-81a1-e0acaa3291ab",
   "metadata": {},
   "source": [
    "# Introduction\r\n",
    "\r\n",
    "**NORTHWIND** is a leading provider in the food industry, renowned for its products and services. With a robust presence in the market, it has established a reputation for quality, customer service, and innovation. **NORTHWIND**'s current position reflects strong revenue growth, market share, and a loyal customer base. However, in a competitive landscape, there's ample opportunity to further capitalize on market trends and drive increased profitability through strategic initiatives.\r\n"
   ]
  },
  {
   "cell_type": "markdown",
   "id": "2623c524-6c2a-41a7-a15e-3ef78d6a59ae",
   "metadata": {},
   "source": [
    "# Contents\r\n",
    "\r\n",
    "## Slide 4: About The Data\r\n",
    "To show the connections between the 11 tables in the Northwind.xlsx file,  \r\n",
    "I should illustrate the relationships using an entity relationship diagram.\r\n",
    "\r\n",
    "## Slide 5: Key Metrics Overview\r\n",
    "Present key financial metrics: Revenue, Costs, and Profit Margin.  \r\n",
    "Show historical trends using line graphs or bar charts.\r\n",
    "\r\n",
    "## Slide 6: Product Analysis\r\n",
    "Display top-selling products by revenue.  \r\n",
    "Compare the `UNITPRICE` and `ORDERDETAILS` to identify pricing strategies.  \r\n",
    "Use a bar chart or heatmap for visualization.\r\n",
    "\r\n",
    "## Slide 7: Customer Segmentation\r\n",
    "Segment customers based on purchasing behavior or demographics.  \r\n",
    "Analyze which segments contribute the most to revenue.  \r\n",
    "Use a pie chart or stacked bar chart.\r\n",
    "\r\n",
    "## Slide 8: Sales Performance by Region\r\n",
    "Highlight revenue generated from different regions.  \r\n",
    "Identify regions with high potential for growth.  \r\n",
    "Utilize a map or bar chart.\r\n",
    "\r\n",
    "## Slide 9: Supplier Analysis\r\n",
    "Evaluate supplier performance based on `UNITPRICE`.  \r\n",
    "Identify suppliers offering competitive pricing.  \r\n",
    "Visualize with a scatter plot or bar chart.\r\n",
    "\r\n",
    "## Slide 10: Inventory Management\r\n",
    "Analyze inventory turnover rate and stock levels.  \r\n",
    "Recommend optimizing stock levels to reduce costs.  \r\n",
    "Use a line graph or histogram.\r\n",
    "\r\n",
    "## Slide 11: Pricing Strategy\r\n",
    "Recommend adjustments to `UNITPRICE` based on market analysis.  \r\n",
    "Show potential impact on profit margin with different pricing scenarios.  \r\n",
    "Utilize a sensitivity analysis or waterfall chart.\r\n",
    "\r\n",
    "## Slide 12: Cost Reduction Opportunities\r\n",
    "Identify areas where costs can be reduced without compromising quality.  \r\n",
    "Provide examples such as optimizing logistics or renegotiating supplier contracts.\r\n",
    "\r\n",
    "## Slide 13: Employee Performance\r\n",
    "Assess sales performance by employee.  \r\n",
    "Identify top-performing employees and areas for improvement.  \r\n",
    "Visualize with a leaderboard or performance heatmap.\r\n",
    "\r\n",
    "## Slide 14: Conclusion\r\n",
    "Summarize key recommendations for increasing profits at NORTHWIND.  \r\n",
    "Emphasize the importance of data-driven decision-making.  \r\n",
    "Invite questions and discussion.\r\n",
    "\r\n",
    "## Slides 15-20: Backup Slides\r\n",
    "Additional charts, graphs, or data to support key points.  \r\n",
    "Include any detailed analysis or methodologies used.\r\n"
   ]
  },
  {
   "cell_type": "markdown",
   "id": "78cca910-1ccc-45eb-8284-a5f6ca828430",
   "metadata": {},
   "source": [
    "![Description of the image](https://nei-gong.com/DA/NORTHWIND/NORTHWIND_Page_04.jpg)"
   ]
  },
  {
   "cell_type": "markdown",
   "id": "47240d4e-f1af-47ad-9c84-a9690fdd442a",
   "metadata": {},
   "source": [
    "[![Description of the image](https://nei-gong.com/DA/NORTHWIND/NORTHWIND_Page_05.jpg)](https://public.tableau.com/app/profile/alexander.suris/viz/KeyMetricsOverview_17149208109900/KeyMetricsOverview)\n"
   ]
  },
  {
   "cell_type": "markdown",
   "id": "5109d92c-a5d8-443c-b9cc-a3c7719f90ed",
   "metadata": {},
   "source": [
    "[![Description of the image](https://nei-gong.com/DA/NORTHWIND/NORTHWIND_Page_06.jpg)](https://public.tableau.com/app/profile/alexander.suris/viz/Top-SellingProductsbyRevenue/Top-SellingProductsbyRevenue)"
   ]
  },
  {
   "cell_type": "markdown",
   "id": "791f0e03-5f12-440f-b969-caa02dc14150",
   "metadata": {},
   "source": [
    "[Compare UNITPRICE and ORDERDETAILS for Pricing Strategies](https://public.tableau.com/app/profile/alexander.suris/viz/CompareUNITPRICEandORDERDETAILSforPricingStrategies/CompareUNITPRICEandORDERDETAILSforPricingStrategies)\r\n"
   ]
  },
  {
   "cell_type": "markdown",
   "id": "5bf8acc3-24f2-4ee0-b17b-89de397ded2a",
   "metadata": {},
   "source": [
    "[![Description of the image](https://nei-gong.com/DA/NORTHWIND/NORTHWIND_Page_07.jpg)](https://public.tableau.com/app/profile/alexander.suris/viz/CustomerSegmentation_17149444264400/CustomerSegmentation)"
   ]
  },
  {
   "cell_type": "markdown",
   "id": "6ca90925-3cf3-46f6-a223-21032070c941",
   "metadata": {},
   "source": [
    "[![Description of the image](https://nei-gong.com/DA/NORTHWIND/NORTHWIND_Page_08.jpg)](https://public.tableau.com/app/profile/alexander.suris/viz/SalesPerformancebyRegion_17149750170560/SalesPerformancebyRegion)\n"
   ]
  },
  {
   "cell_type": "markdown",
   "id": "93e45938-df43-4652-acd8-4c0803c81fe1",
   "metadata": {},
   "source": [
    "[![Description of the image](https://nei-gong.com/DA/NORTHWIND/NORTHWIND_Page_09.jpg)](https://public.tableau.com/app/profile/alexander.suris/viz/SupplierAnalysis_17150100189940/SupplierAnalysis)"
   ]
  },
  {
   "cell_type": "markdown",
   "id": "07984afc-8499-4ad7-b62a-5ed78b2fcf63",
   "metadata": {},
   "source": [
    "[![Description of the image](https://nei-gong.com/DA/NORTHWIND/NORTHWIND_Page_10.jpg)](https://public.tableau.com/app/profile/alexander.suris/viz/InventoryManagement_17143821297570/InventoryManagement)"
   ]
  },
  {
   "cell_type": "markdown",
   "id": "5165887e-85eb-4a71-80ab-bd6150fce2c3",
   "metadata": {},
   "source": [
    "[![Description of the image](https://nei-gong.com/DA/NORTHWIND/NORTHWIND_Page_11.jpg)](https://public.tableau.com/app/profile/alexander.suris/viz/PricingStrategy_17150695872190/PricingStrategy)"
   ]
  },
  {
   "cell_type": "code",
   "execution_count": null,
   "id": "76e64cc6-de79-403d-a4a3-560403ffb18e",
   "metadata": {},
   "outputs": [],
   "source": []
  },
  {
   "cell_type": "markdown",
   "id": "3d6d50f6-675c-4ad5-8106-e7b52101667b",
   "metadata": {},
   "source": [
    "[![Description of the image](https://nei-gong.com/DA/NORTHWIND/NORTHWIND_Page_12.jpg)](https://public.tableau.com/app/profile/alexander.suris/viz/CostReductionOpportunities/CostReductionOpportunities)"
   ]
  },
  {
   "cell_type": "markdown",
   "id": "ce2d7261-d0e1-4da6-969f-b9a39559f4a6",
   "metadata": {},
   "source": [
    "# Employee Performance\r\n",
    "\r\n",
    "Assess sales performance by each employee to identify top performers and areas needing improvement.\r\n",
    "ent.\r\n"
   ]
  },
  {
   "cell_type": "markdown",
   "id": "1a211019-3792-41bd-91f8-a8a60ece4eac",
   "metadata": {},
   "source": [
    "## Title\r\n",
    "\r\n",
    "<span style=\"color: #4d79a9;\">&#9632;</span> Inside Sales Coordinator  \r\n",
    "<span style=\"color: #f08f32;\">&#9632;</span> Sales Manager  \r\n",
    "<span style=\"color: #e5555a;\">&#9632;</span> Sales Representative  \r\n",
    "<span style=\"color: #e5555a;\">&#9632;</span> Vice President, Sales\r\n",
    "Sales\r\n"
   ]
  },
  {
   "cell_type": "markdown",
   "id": "7728fa83-cc90-44ac-ae14-b0a4c4337959",
   "metadata": {},
   "source": [
    "![Description of the image](https://nei-gong.com/DA/NORTHWIND/Employee%20Performance.jpg)\r\n"
   ]
  },
  {
   "cell_type": "markdown",
   "id": "c6f09e50-116d-4316-84f0-f2ec4824d73a",
   "metadata": {},
   "source": [
    "## Sales Performance by Employee.\r\n"
   ]
  },
  {
   "cell_type": "markdown",
   "id": "5197b9ef-aa2b-4b0d-9b9c-b966623d0f5c",
   "metadata": {},
   "source": [
    "| Title                      | 1 Davolio (1948/1992) | 2 Fuller (1952/1992) | 3 Leverling (1963/1992) | 4 Peacock (1937/1993) | 5 Buchanan (1955/1993) | 6 Suyama (1963/1993) | 7 King (1960/1994) | 8 Callahan (1958/1994) | 9 Dodsworth (1966/1994) |\r\n",
    "|----------------------------|-----------------------|----------------------|-------------------------|-----------------------|------------------------|-----------------------|--------------------|------------------------|-------------------------|\r\n",
    "| Inside Sales Coordinator   |                       |                      |                         |                       |                        |                       |                    |                        | 68,567                  |\r\n",
    "| Sales Manager              |                       |                      |                         |                       | 37,023                 |                       |                    |                        |                         |\r\n",
    "| Sales Representative       | 102,344               |                      | 107,443                 |                       |                        |                       |                    |                        | 40,207                  |\r\n",
    "| Vice President, Sales      |                       |                      |                         |                       |                        |                       | 86,938             |                        |                         |\r\n"
   ]
  },
  {
   "cell_type": "markdown",
   "id": "e13dc037-59b4-4d31-bf1e-d3402379b87c",
   "metadata": {},
   "source": [
    "## Conclusion\r\n",
    "\r\n",
    "Our analysis of the Northwind dataset has provided valuable insights into the company's operations. By applying data-driven approaches, we have identified several key opportunities and strategies to enhance profitability.\r\n",
    "\r\n",
    "## Recommendations\r\n",
    "\r\n",
    "1. **Pricing Optimization:** Adjusting unit prices based on market analysis can improve competitiveness and boost revenue. Conduct sensitivity analysis to evaluate the potential impact on profit margins.\r\n",
    "\r\n",
    "2. **Customer Segmentation:** Segment customers based on purchasing behavior or demographics to develop targeted marketing strategies and personalized experiences, which can drive revenue growth.\r\n",
    "\r\n",
    "3. **Inventory Management:** Analyze inventory turnover rates and optimize stock levels to reduce carrying costs and improve cash flow. Implement inventory optimization techniques to achieve significant cost savings.\r\n",
    "\r\n",
    "4. **Supplier Analysis:** Assess supplier performance based on unit prices to identify cost-saving opportunities. Consider renegotiating contracts or sourcing from suppliers with competitive pricing to positively impact profitability.\r\n",
    "\r\n",
    "5. **Employee Performance:** Continuously monitor and evaluate sales performance by employee. Recognize top performers and provide training or support to enhance overall performance.\r\n",
    "\r\n",
    "By implementing these recommendations, Northwind can streamline operations, boost customer satisfaction, and increase profitability. Data-driven decision-making will be essential for driving sustainable growth and maintaining a competitive edge in the market.\r\n"
   ]
  },
  {
   "cell_type": "markdown",
   "id": "b2db9947-ac4e-4840-aac1-95a0b1c777ca",
   "metadata": {},
   "source": [
    "## <font color=\"blue\">Appendix</font>\r\n"
   ]
  },
  {
   "cell_type": "markdown",
   "id": "43945e55-e96d-4ddb-be84-8b29b37f25dc",
   "metadata": {},
   "source": [
    "## About The Data\n",
    "\n",
    "### Tables Connections\n",
    "\n",
    "To show the connections between the 11 tables in the Northwind.xlsx file, we can illustrate the relationships using an entity-relationship diagram. An ERD visually represents the tables and their relationships within a database. Here's how we can represent the connections:\n",
    "\n",
    "- **Products** to **Category**:  \n",
    "  `Products` (<font color=\"green\">ProductID</font>) -> **Category** (<font color=\"green\">CategoryID</font>)\n",
    "\n",
    "- **Products** to **Customers**:  \n",
    "  `Products` (Product name) -> **Customers** (<font color=\"green\">CustomerID</font>)\n",
    "\n",
    "- **Orders** to **Customers** and **Employees**:  \n",
    "  `Orders` (<font color=\"green\">CustomerID</font>) -> **Customers** (<font color=\"green\">CustomerID</font>)  \n",
    "  `Orders` (<font color=\"green\">EmployeeID</font>) -> **Employees** (<font color=\"green\">EmployeeID</font>)\n"
   ]
  },
  {
   "cell_type": "markdown",
   "id": "fc39344d-43ad-4e11-bac1-3e7e92e54102",
   "metadata": {},
   "source": [
    "- **Products** to **Category**:  \n",
    "  `Products` (<font color=\"green\">ProductID</font>) -> **Category** (<font color=\"green\">CategoryID</font>)\n",
    "\n",
    "- **Products** to **Customers**:  \n",
    "  `Products` (Product name) -> **Customers** (<font color=\"green\">CustomerID</font>)\n",
    "\n",
    "- **Orders** to **Customers** and **Employees**:  \n",
    "  `Orders` (<font color=\"green\">CustomerID</font>) -> **Customers** (<font color=\"green\">CustomerID</font>)  \n",
    "  `Orders` (<font color=\"green\">EmployeeID</font>) -> **Employees** (<font color=\"green\">EmployeeID</font>)\n",
    "\n",
    "- **Order Details** to **Orders** and **Products**:  \n",
    "  `Order Details` (<font color=\"green\">OrderID</font>) -> **Orders** (<font color=\"green\">OrderID</font>)  \n",
    "  `Order Details` (<font color=\"green\">ProductID</font>) -> **Products** (<font color=\"green\">ProductID</font>)\n",
    "\n",
    "- **Employees** to **Employee Territories**:  \n",
    "  `Employees` (<font color=\"green"
   ]
  },
  {
   "cell_type": "markdown",
   "id": "ae0b1dc6-6780-40b4-91b4-8b3ce162491e",
   "metadata": {},
   "source": [
    "- **Products** to **Category**:  \n",
    "  `Products` (<font color=\"green\">ProductID</font>) -> **Category** (<font color=\"green\">CategoryID</font>)\n",
    "\n",
    "- **Products** to **Customers**:  \n",
    "  `Products` (Product name) -> **Customers** (<font color=\"green\">CustomerID</font>)\n",
    "\n",
    "- **Orders** to **Customers** and **Employees**:  \n",
    "  `Orders` (<font color=\"green\">CustomerID</font>) -> **Customers** (<font color=\"green\">CustomerID</font>)  \n",
    "  `Orders` (<font color=\"green\">EmployeeID</font>) -> **Employees** (<font color=\"green\">EmployeeID</font>)\n",
    "\n",
    "- **Order Details** to **Orders** and **Products**:  \n",
    "  `Order Details` (<font color=\"green\">OrderID</font>) -> **Orders** (<font color=\"green\">OrderID</font>)  \n",
    "  `Order Details` (<font color=\"green\">ProductID</font>) -> **Products** (<font color=\"green\">ProductID</font>)\n",
    "\n",
    "- **Employees** to **Employee Territories**:  \n",
    "  `Employees` (<font color=\"green\">EmployeeID</font>) -> **Employee Territories** (<font color=\"green\">EmployeeID</font>)\n",
    "\n",
    "- **Territories** to **Region**:  \n",
    "  `Territories` (<font color=\"green\">RegionID</font>) -> **Region** (<font color=\"green\">RegionID</font>)\n",
    "\n",
    "- **Suppliers** to **Products**:  \n",
    "  `Suppliers` (<font color=\"green\">SupplierID</font>) -> **Products** (<font color=\"green\">SupplierID</font>)\n",
    "\n",
    "- **Shippers** to **Orders**:  \n",
    "  `Shippers` (<font color=\"green\">ShipperID</font>) -> `Orders` (ShipVia)\n",
    "\n",
    "- **Category** to **Products**:  \n",
    "  `Category` (<font color=\"green\">CategoryID</font>) -> **Products** (<font color=\"green\">CategoryID</font>)"
   ]
  },
  {
   "cell_type": "markdown",
   "id": "2cab786c-2f16-4337-a872-3b2ecc15a98d",
   "metadata": {},
   "source": [
    "This representation demonstrates how the tables are connected through **_primary_** and **_foreign_** keys, allowing for efficient querying and data retrieval. It's essential for maintaining data integrity and facilitating data analysis within the database.\r\n"
   ]
  },
  {
   "cell_type": "markdown",
   "id": "aa068e97-ba1d-4841-b0a6-73fbdd82fbe1",
   "metadata": {},
   "source": [
    "![Description of the image](https://nei-gong.com/DA/NORTHWIND/column_connections.jpg)\r\n"
   ]
  },
  {
   "cell_type": "markdown",
   "id": "55462e21-e53c-45a2-bab5-22a67b6b7aa3",
   "metadata": {},
   "source": [
    "## *Key Metrics Overview*"
   ]
  },
  {
   "cell_type": "markdown",
   "id": "89504f23-cb4c-4f1f-89f5-84faea1aebeb",
   "metadata": {},
   "source": [
    "## _TABLEAU_\n"
   ]
  },
  {
   "cell_type": "raw",
   "id": "6005f180-695f-425e-8427-d638107e4708",
   "metadata": {},
   "source": [
    "To present key financial metrics: Revenue, Costs, and Profit Margin. Create Calculated Fields:\u000b",
    "Create calculated fields for Revenue, Costs, and Profit Margin:\n"
   ]
  },
  {
   "cell_type": "markdown",
   "id": "54aff181-8c86-4cce-aa61-f72834073b11",
   "metadata": {},
   "source": [
    " ```sql\n",
    "- **Revenue:** `SUM(UnitPrice * Quantity)`\n",
    "- **Costs:** `SUM(UnitPrice * Quantity * (1 - Discount))`\n",
    "- **Profit Margin:** `([Revenue] - [Costs]) / ([Revenue])`\n"
   ]
  },
  {
   "cell_type": "markdown",
   "id": "836531b5-69de-4549-a29b-27ead9fba843",
   "metadata": {},
   "source": [
    "## *Product Analysis*"
   ]
  },
  {
   "cell_type": "markdown",
   "id": "c3ad309b-5efe-48fe-afde-626563acdca8",
   "metadata": {},
   "source": [
    "## _TABLEAU_\n"
   ]
  },
  {
   "cell_type": "markdown",
   "id": "577f4d1c-2c4e-482d-9083-f05df02b5382",
   "metadata": {},
   "source": [
    "**Create Graph for Top-Selling Products by Revenue:**\r\n",
    "\r\n",
    "1. Drag the `Product Name` field to the Rows shelf.\r\n",
    "2. Drag the calculated field for revenue `SUM(UnitPrice * Quantity)` to the Columns shelf.\r\n",
    "3. Sort the products by revenue to display the top-selling products at the top.\r\n",
    "4. Choose a bar chart or heatmap from the Show Me panel to visualize the top-selling products by revenue.\r\n"
   ]
  },
  {
   "cell_type": "markdown",
   "id": "e26bc5a6-6a46-41d8-8960-4ae1a56cdb83",
   "metadata": {},
   "source": [
    "**Compare UNITPRICE and ORDERDETAILS for Pricing Strategies:**\r\n",
    "\r\n",
    "1. Drag the `UNITPRICE` field to the Rows shelf.\r\n",
    "2. Drag the `ORDERDETAILS` field to the Columns shelf.\r\n",
    "3. Choose a bar chart or heatmap from the Show Me panel to compare unit prices and order details.\r\n"
   ]
  },
  {
   "cell_type": "markdown",
   "id": "72d94630-06ff-4c31-b79b-501c6d8d2343",
   "metadata": {},
   "source": [
    "## _SQL SERVER_\n"
   ]
  },
  {
   "cell_type": "markdown",
   "id": "093b565a-c295-4c4b-a7e8-95db68ab34e8",
   "metadata": {},
   "source": [
    "**Total Revenue Query:**\r\n",
    "\r\n",
    "```sql\r\n",
    "SELECT SUM(od.UnitPrice * od.Quantity) AS TotalRevenue\r\n",
    "FROM Northwind.Orders o\r\n",
    "JOIN Northwind.[Order Details] od ON o.OrderID = od.OrderID\r\n"
   ]
  },
  {
   "cell_type": "markdown",
   "id": "36e33449-dd3e-4603-b907-dcf12820fdd2",
   "metadata": {},
   "source": [
    "|   | Total Revenue |\n",
    "|---|:-------------:|\n",
    "| 1 | 1,354,458.59  |\n"
   ]
  },
  {
   "cell_type": "markdown",
   "id": "7a21bdae-a7b6-492e-b25e-95a84636487b",
   "metadata": {},
   "source": [
    "**Total Profit Query:**\r\n",
    "\r\n",
    "```sql\r\n",
    "SELECT SUM(TotalRevenue - TotalCost) AS TotalProfit\r\n",
    "FROM (\r\n",
    "    SELECT \r\n",
    "        OrderID,\r\n",
    "        SUM(UnitPrice * Quantity) AS TotalRevenue,\r\n",
    "        COUNT(*) * 10 AS TotalCost\r\n",
    "    FROM [Northwind].[Order Details]\r\n",
    "    GROUP BY OrderID\r\n",
    ") AS OrderProfits\r\n"
   ]
  },
  {
   "cell_type": "markdown",
   "id": "daffe7dc-1b5a-4a13-a506-d24f7d3299f4",
   "metadata": {},
   "source": [
    "\n",
    "|   | Total Profit |\n",
    "|---|:-------------:|\n",
    "| 1 | 1332908.59  |\n"
   ]
  },
  {
   "cell_type": "markdown",
   "id": "480dbb1b-1b8c-4a2c-8e18-2bf006bf6a56",
   "metadata": {},
   "source": [
    "**Total Orders Query:**\r\n",
    "\r\n",
    "```sql\r\n",
    "SELECT COUNT(OrderID) AS TotalOrders\r\n",
    "FROM [Northwind].[Orders]\r\n"
   ]
  },
  {
   "cell_type": "markdown",
   "id": "fbe4e4e0-441b-4569-b127-da8ea738a217",
   "metadata": {},
   "source": [
    "\n",
    "|   | Total Orders |\n",
    "|---|:-------------:|\n",
    "| 1 | 830  |\n"
   ]
  },
  {
   "cell_type": "markdown",
   "id": "e629ec33-12ac-4bc3-b790-403eb6885369",
   "metadata": {},
   "source": [
    "## *Customer Segmentation*"
   ]
  },
  {
   "cell_type": "markdown",
   "id": "691023f3-ea30-4f65-905c-820fc0a1ba12",
   "metadata": {},
   "source": [
    "## _TABLEAU_\n"
   ]
  },
  {
   "attachments": {},
   "cell_type": "markdown",
   "id": "04350663-4829-4e83-9dd7-41308c3f8b10",
   "metadata": {},
   "source": [
    "**Segmentation Analysis Techniques:**\r\n",
    "\r\n",
    "1. **RFM Analysis:** Analyze customer behavior based on:\r\n",
    "   - **Recency:** Last purchase date\r\n",
    "   - **Frequency:** Number of purchases\r\n",
    "   - **Monetary Value:** Total spend\r\n",
    "\r\n",
    "2. **Cluster Analysis:** Use algorithms like k-means clustering to group customers based on similarities in their characteristics or behavior.\r\n",
    "\r\n",
    "3. **Behavioral Segmentation:** Segment customers based on their interactions with your products or services, such as browsing history, purchase history, or engagement level.\r\n",
    "\r\n",
    "**RFM Analysis Implementation in Tableau:**\r\n",
    "\r\n",
    "1. **Recency:**\r\n",
    "   - Create Calculated Field `Recency`:\r\n",
    "     ```sql\r\n",
    "     DATEDIFF('day', {FIXED [CustomerID]: MAX([Order Date])}, TODAY())\r\n",
    "     ```\r\n",
    "\r\n",
    "2. **Frequency:**\r\n",
    "   - Create Calculated Field `Frequency`:\r\n",
    "     ```sql\r\n",
    "     COUNTD([Order ID])\r\n",
    "     ```\r\n",
    "\r\n",
    "3. **Monetary Value:**\r\n",
    "   - Create Calculated Field `Monetary Value`:\r\n",
    "     ```sql\r\n",
    "     SUM([UnitPrice] * [Quantity])\r\n",
    "     ```\r\n",
    "\r\n",
    "In the Northwind database, the equivalent of \"Transaction Amount\" would be the total price of an order, calculated by multiplying the quantity of each product ordered by its Unit Price. This information is typically stored in the \"Order Details\" table.\r\n",
    " table.\r\n"
   ]
  },
  {
   "cell_type": "markdown",
   "id": "de676b0b-bd41-4ad3-8784-645e28cf587f",
   "metadata": {},
   "source": [
    "**Cluster Analysis:**\r\n",
    "\r\n",
    "- **Dimensions:**\r\n",
    "  - **Customer ID:** Unique identifier for each customer.\r\n",
    "  - **Region:** Geographic region of the customer.\r\n",
    "  - **Product Category:** Category of the products purchased.\r\n",
    "\r\n",
    "- **Measures:**\r\n",
    "  - **Total Sales:** Total sales revenue generated by each customer.\r\n",
    "  - **Number of Orders:** Count of orders placed by each customer.\r\n",
    "  - **Average Order Value:** Average value of orders placed by each customer.\r\n"
   ]
  },
  {
   "cell_type": "markdown",
   "id": "2ecb1ef2-902d-48fc-9f7f-1d3cc1053605",
   "metadata": {},
   "source": [
    "**Cluster Analysis in Tableau:**\r\n",
    "\r\n",
    "1. **Drag Dimensions and Measures:**\r\n",
    "   - Drag `Region` to the Color shelf to distinguish between different regions.\r\n",
    "   - Drag `Total Sales` to the Columns shelf.\r\n",
    "   - Drag `Number of Orders` to the Rows shelf.\r\n",
    "   - Drag `Average Order Value` to the Size shelf to represent the size of each data point.\r\n",
    "\r\n",
    "2. **Calculated Fields:**\r\n",
    "   - **Revenue:**\r\n",
    "     ```sql\r\n",
    "     SUM([UnitPrice] * [Quantity])\r\n",
    "     ```\r\n",
    "\r\n",
    "   - **Costs:**\r\n",
    "     ```sql\r\n",
    "     SUM([UnitPrice] * [Quantity] * (1 - [Discount]))\r\n",
    "     ```\r\n",
    "\r\n",
    "   - **Profit Margin:**\r\n",
    "     ```sql\r\n",
    "     ([Revenue] - [Costs]) / [Revenue]\r\n",
    "     ```\r\n",
    "\r\n",
    "   - **Average Order Value:**\r\n",
    "     ```sql\r\n",
    "     SUM([UnitPrice] * [Quantity] * (1 - [Discount])) / COUNTD([OrderID])\r\n",
    "     ```\r\n",
    "\r\n",
    "   - **Number of Orders:**\r\n",
    "     ```sql\r\n",
    "     COUNTD([OrderID])\r\n",
    "     ```\r\n",
    "\r\n",
    "   - **Total Sales CF:**\r\n",
    "     ```sql\r\n",
    "     SUM([UnitPrice] * [Quantity] * (1 - [Discount]))\r\n",
    "     ```\r\n"
   ]
  },
  {
   "cell_type": "markdown",
   "id": "75ad0713-978e-419d-8e5a-871003cefe25",
   "metadata": {},
   "source": [
    "## _SQL SERVER_\n"
   ]
  },
  {
   "cell_type": "markdown",
   "id": "6eea2f10-126d-47d2-84b6-ce3b5328fc54",
   "metadata": {},
   "source": [
    "**Number of Orders Query:**\r\n",
    "\r\n",
    "```sql\r\n",
    "SELECT COUNT(DISTINCT OrderID) AS NumberOfOrders\r\n",
    "FROM [Northwind].[Orders]\r\n"
   ]
  },
  {
   "cell_type": "markdown",
   "id": "e3348d61-1bed-46bd-9998-e051ee5c1971",
   "metadata": {},
   "source": [
    "\n",
    "|   | Number of Orders |\n",
    "|---|:-------------:|\n",
    "| 1 | 830  |\n"
   ]
  },
  {
   "attachments": {},
   "cell_type": "markdown",
   "id": "6f3e9ffd-ab8d-409c-bb29-f81c11e39f24",
   "metadata": {},
   "source": [
    "## *Supplier Analysis*"
   ]
  },
  {
   "cell_type": "raw",
   "id": "fd9cbf62-c5f0-4fac-8ee6-ac8af917c9e5",
   "metadata": {},
   "source": [
    "Supplier analysis evaluates supplier performance to optimize procurement, enhance collaboration, and ensure quality and delivery reliability. It considers factors like customer growth, regional demand, and average order value to inform decisions and improve supply chain efficiency.\n"
   ]
  },
  {
   "cell_type": "markdown",
   "id": "4fee20b2-6afd-4bc5-8599-8aaedd3827cc",
   "metadata": {},
   "source": [
    "## _TABLEAU_\n"
   ]
  },
  {
   "cell_type": "markdown",
   "id": "f92f4e05-fee0-4c8b-b396-9ea2e2bddaab",
   "metadata": {},
   "source": [
    "**Product Demand by Region:**\r\n",
    "\r\n",
    "1. **Drag Dimensions and Measures:**\r\n",
    "   - Drag the `Region` field from the Customers table to the Rows shelf.\r\n",
    "   - Drag the `Product ID` field from the Order Details table to the Columns shelf.\r\n",
    "   - Drag the `Quantity` field from the Order Details table to the Text shelf. This will display the total quantity sold for each product in each region.\r\n",
    "\r\n",
    "**Average Order Value:**\r\n",
    "\r\n",
    "1. **Create Calculated Fields:**\r\n",
    "   - **Order Value:**\r\n",
    "     ```sql\r\n",
    "     SUM([UnitPrice] * [Quantity])\r\n",
    "     ```\r\n",
    "\r\n",
    "   - **Average Order Value:**\r\n",
    "     ```sql\r\n",
    "     SUM([UnitPrice] * [Quantity] * (1 - [Discount])) / COUNTD([OrderID])\r\n",
    "     ```\r\n",
    "\r\n",
    "**Customer Growth Rate:**\r\n",
    "\r\n",
    "1. **Create Calculated Fields:**\r\n",
    "   - **New Customers:**\r\n",
    "     ```sql\r\n",
    "     IF [OrderDate] = [First Order Date] THEN [CustomerID] END\r\n",
    "     ```\r\n",
    "\r\n",
    "   - **Customer Growth Rate:**\r\n",
    "     ```sql\r\n",
    "     (COUNTD([New Customers]) - LOOKUP(COUNTD([New Customers]), -1)) / LOOKUP(COUNTD([New Customers]), -1)\r\n",
    "     ```\r\n",
    "\r\n",
    "2. **Visualize Growth Rate:**\r\n",
    "   - Drag the date field (e.g., `OrderDate`) to the Columns shelf.\r\n",
    "   - Drag the calculated field for customer growth rate to the Rows shelf.\r\n",
    "[New Customers]), -1)\r\n",
    "     ``\r\n"
   ]
  },
  {
   "attachments": {},
   "cell_type": "markdown",
   "id": "2649dfab-ec05-4903-a51f-b3d343260ee5",
   "metadata": {},
   "source": [
    "## *Inventory Management*"
   ]
  },
  {
   "cell_type": "raw",
   "id": "b5443aea-49bb-4c9c-a6b7-0c28f831703d",
   "metadata": {},
   "source": [
    "Inventory management involves overseeing the flow of goods from manufacturers to warehouses and ultimately to customers. It includes tasks like tracking inventory levels, ordering and restocking products, optimizing storage space, and minimizing carrying costs. Effective inventory management ensures that a company has the right amount of stock at the right time to meet customer demand while avoiding stockouts or excess inventory."
   ]
  },
  {
   "cell_type": "markdown",
   "id": "ba4ccfac-1126-48d7-8d75-06fc65b10119",
   "metadata": {},
   "source": [
    "## _TABLEAU_\n"
   ]
  },
  {
   "cell_type": "markdown",
   "id": "df7f1475-2614-44bc-877e-35d5b085761b",
   "metadata": {},
   "source": [
    "**Inventory Turnover Rate Over Time:**\r\n",
    "\r\n",
    "1. **Create Calculated Fields:**\r\n",
    "   - **Cost of Goods Sold (COGS):**\r\n",
    "     ```sql\r\n",
    "     [Quantity] * [Unit Price] * (1 - [Discount])\r\n",
    "     ```\r\n",
    "\r\n",
    "   - **Average Order Value:**\r\n",
    "     ```sql\r\n",
    "     WINDOW_AVG(SUM([Units In Stock]))\r\n",
    "     ```\r\n",
    "\r\n",
    "   - **Inventory Turnover Rate:**\r\n",
    "     ```sql\r\n",
    "     SUM([COGS]) / [Average Inventory]\r\n",
    "     ```\r\n",
    "\r\n",
    "2. **Visualize Turnover Rate:**\r\n",
    "   - Drag the `Order Date` field to the Columns shelf.\r\n",
    "   - Drag the calculated field for Inventory Turnover Rate to the Rows shelf.\r\n",
    "\r\n",
    "**Stock Levels by Product Category:**\r\n",
    "\r\n",
    "1. **Visualize Stock Levels:**\r\n",
    "   - Drag the `CategoryName` field from your data source to the Rows shelf.\r\n",
    "   - Drag the `Units In Stock` field to the Columns shelf. Tableau should automatically aggregate this as a sum.\r\n",
    "\r\n",
    "**Inventory Turnover Rate by Product Category:**\r\n",
    "\r\n",
    "1. **Create Calculated Fields:**\r\n",
    "   - **Cost of Goods Sold:**\r\n",
    "     ```sql\r\n",
    "     [Quantity] * [Unit Price] * (1 - [Discount])\r\n",
    "     ```\r\n",
    "\r\n",
    "   - **Average Inventory:**\r\n",
    "     ```sql\r\n",
    "     AVG([Units In Stock])\r\n",
    "     ```\r\n",
    "\r\n",
    "   - **Inventory Turnover Rate:**\r\n",
    "     ```sql\r\n",
    "     SUM([Cost of Goods Sold]) / [Average Inventory]\r\n",
    "     ```\r\n",
    "\r\n",
    "2. **Visualize Turnover Rate by Category:**\r\n",
    "   - Drag the `CategoryName` field to the Columns shelf.\r\n",
    "   - Drag the calculated field for Inventory Turnover Rate to the Rows shelf.\r\n",
    "\r\n",
    "**Inventory Level Distribution:**\r\n",
    "\r\n",
    "1. **Create Bins for Inventory Levels:**\r\n",
    "   - Right-click on the `Units In Stock` field in the Data pane.\r\n",
    "   - Select `Create` and then `Bins...`\r\n",
    "   - In the `Edit Bins` dialog, specify the bin size and range for the inventory levels. For example, you can set the bin size to 10 or adjust it based on your data distribution.\r\n",
    "   - Click OK to create the bins.\r\n",
    "\r\n",
    "2. **Create the Chart:**\r\n",
    "   - Drag the newly created `Units In Stock (bin)` field to the Columns shelf.\r\n",
    "   - Drag the `Number of Records` field (which represents the count of inventory items) to the Rows shelf.\r\n"
   ]
  },
  {
   "attachments": {},
   "cell_type": "markdown",
   "id": "5c1e7553-76ae-43c9-82b5-a347a221b84d",
   "metadata": {},
   "source": [
    "## *Pricing Strategy*"
   ]
  },
  {
   "cell_type": "raw",
   "id": "d7102943-6937-4e1a-9385-dc747c2dc4f2",
   "metadata": {},
   "source": [
    "Pricing strategy refers to the approach a business takes to set the prices of its products or services. It involves analyzing factors such as production costs, competition, customer demand, and market trends to determine the optimal price point that maximizes profitability and market share. Common pricing strategies include cost-plus pricing, where a markup is added to production costs, value-based pricing, which considers the perceived value of the product to customers, and competitive pricing, where prices are set based on what competitors are charging. The chosen pricing strategy plays a significant role in shaping consumer perceptions, influencing purchasing decisions, and ultimately impacting the success of a business.\u000b",
    "\n"
   ]
  },
  {
   "cell_type": "markdown",
   "id": "eccca644-8240-4640-9731-85cf5c5ed830",
   "metadata": {},
   "source": [
    "## _TABLEAU_\n"
   ]
  },
  {
   "cell_type": "markdown",
   "id": "3446e193-d0ae-4189-aa29-74007b37fdd9",
   "metadata": {},
   "source": [
    "**Profit Margin Analysis:**\r\n",
    "\r\n",
    "1. **Visualize Profit Margin Components:**\r\n",
    "   - Drag your dimension representing the components (e.g., Revenue, COGS, Operating Expenses, Taxes, Net Profit) to the Columns shelf.\r\n",
    "   - Drag your measure representing the value of each component (Profit Margin) to the Rows shelf.\r\n",
    "\r\n",
    "2. **Create a Waterfall Chart:**\r\n",
    "   - Drag the dimension representing the components to the Rows shelf again, placing it next to the existing one.\r\n",
    "   - Change the chart type of the second dimension to a Gantt Bar (or Stacked Bar) chart.\r\n",
    "   - Adjust the size of bars as needed to create the desired appearance.\r\n",
    "\r\n",
    "3. **Add Reference Lines:**\r\n",
    "   - Right-click on the axis of the second dimension (the Gantt Bar chart) and select \"Add Reference Line\" > \"Value\".\r\n",
    "   - In the \"Reference Line\" dialog, select \"Per Cell\" under \"Scope\".\r\n",
    "\r\n",
    "**Cost Analysis:**\r\n",
    "\r\n",
    "1. **Visualize Cost Breakdown:**\r\n",
    "   - Drag the dimension representing the cost components (e.g., Production Costs, Marketing Expenses, Distribution Costs, Overhead Expenses) to the Columns shelf.\r\n",
    "   - Drag the measure representing the value of each cost component to the Rows shelf.\r\n",
    "\r\n",
    "2. **Choose Chart Type:**\r\n",
    "   - Depending on your preference and the nature of your data, you can choose from various chart types to visualize cost analysis. Common options include:\r\n",
    "     - **Stacked Bar Chart:** Use this chart type to show the total cost with each component stacked on top of each other.\r\n",
    "\r\n",
    "**Revenue Analysis:**\r\n",
    "\r\n",
    "1. **Visualize Revenue by Category:**\r\n",
    "   - Drag the dimension representing the category you want to analyze revenue by (e.g., Product, Region, Time) to the Columns shelf.\r\n",
    "   - Drag the measure representing revenue to the Rows shelf.\r\n",
    "\r\n",
    "**Price Elasticity Analysis:**\r\n",
    "\r\n",
    "1. **Visualize Price Elasticity:**\r\n",
    "   - Drag the measure representing price to the Columns shelf.\r\n",
    "   - Drag the measure representing demand quantity (e.g., Units In Stock) to the Rows shelf.\r\n"
   ]
  },
  {
   "attachments": {},
   "cell_type": "markdown",
   "id": "430be0cb-9eef-4f2d-831a-630b369d41f5",
   "metadata": {},
   "source": [
    "## *Cost Reduction Opportunities*"
   ]
  },
  {
   "cell_type": "raw",
   "id": "127eefb4-8958-422a-9aca-cd52407440c9",
   "metadata": {},
   "source": [
    "Cost Reduction Opportunity Identifys areas where costs can be reduced without compromising quality.\u000b",
    "Provide examples such as optimizing logistics or renegotiating supplier contracts.\n"
   ]
  },
  {
   "cell_type": "markdown",
   "id": "2af80c8e-bcdd-4d28-b527-8b9651ffdf37",
   "metadata": {},
   "source": [
    "## _TABLEAU_\n"
   ]
  },
  {
   "cell_type": "markdown",
   "id": "ea83a4bc-676e-4d88-a850-77f33719f2c2",
   "metadata": {},
   "source": [
    "**Product Sales by Category:**\r\n",
    "\r\n",
    "1. **Visualize Sales Performance:**\r\n",
    "   - Drag the dimension representing the product category (e.g., `CategoryName` from the Products table) to the Columns shelf.\r\n",
    "   - Drag the measure representing sales (e.g., `Sales`) to the Rows shelf. If there's no explicit sales measure, you can use a measure such as `Revenue` or `Quantity Sold`.\r\n",
    "\r\n",
    "**Supplier Contracts:**\r\n",
    "\r\n",
    "1. **Visualize Supplier Costs:**\r\n",
    "   - Drag the dimension representing the supplier (e.g., `SupplierName`) to the Columns shelf.\r\n",
    "   - Drag the measure representing the total cost of goods sold (COGS) for each supplier's products to the Rows shelf.\r\n"
   ]
  },
  {
   "attachments": {},
   "cell_type": "markdown",
   "id": "27880658-b699-4409-ae0f-c88da900902d",
   "metadata": {},
   "source": [
    "## *Employee Performance*"
   ]
  },
  {
   "cell_type": "raw",
   "id": "0d9de086-12ec-45fc-a661-d079f5741dd1",
   "metadata": {},
   "source": [
    "Assess sales performance by employee.\u000b",
    "Identify top-performing employees and areas for improvement.\u000b",
    "These charts will provide insights into sales performance by employee, helping identify top performers and areas for improvement. \u000b",
    "They can assist in making informed decisions related to sales team management, training, and incentive programs. \n"
   ]
  },
  {
   "cell_type": "markdown",
   "id": "84a0ab73-020a-4441-a4f2-98adc5586c22",
   "metadata": {},
   "source": [
    "## _TABLEAU_\n"
   ]
  },
  {
   "cell_type": "markdown",
   "id": "ce9bbf1b-6cc2-4a4b-ad7d-c617f6643d41",
   "metadata": {},
   "source": [
    "**Sales Performance by Employee:**\r\n",
    "\r\n",
    "1. **Visualize Sales Performance:**\r\n",
    "   - Drag the `EmployeeID` field from the Employees table and the measure representing sales (e.g., `Sales`) to the Rows shelf.\r\n",
    "   - Change the aggregation of the `Sales` measure to `SUM` to show the total sales amount by each employee.\r\n",
    "   - Sort the bars in descending order based on the total sales amount to identify top-performing employees.\r\n",
    "\r\n",
    "**Employee Performance:**\r\n",
    "\r\n",
    "1. **Create Calculated Field:**\r\n",
    "   - **Employee Performance:**\r\n",
    "     ```sql\r\n",
    "     IF SUM([Quantity]) >= WINDOW_MAX(SUM([Quantity])) THEN \"Top-performing\"\r\n",
    "     ELSE \"Low-performing\"\r\n",
    "     END\r\n",
    "     ```\r\n",
    "\r\n",
    "2. **Visualize Employee Performance:**\r\n",
    "   - Drag the `OrderDate` field to the Columns shelf and choose the appropriate level of date granularity (e.g., month).\r\n",
    "   - Drag the calculated field `Employee Performance` (representing employee performance, e.g., \"Performance Category\") to the Rows shelf to create two separate lines for top-performing and low-performing employees.\r\n"
   ]
  },
  {
   "cell_type": "code",
   "execution_count": null,
   "id": "d78321f9-e7f2-4c9d-963e-0009d4909652",
   "metadata": {},
   "outputs": [],
   "source": []
  }
 ],
 "metadata": {
  "kernelspec": {
   "display_name": "Python 3 (ipykernel)",
   "language": "python",
   "name": "python3"
  },
  "language_info": {
   "codemirror_mode": {
    "name": "ipython",
    "version": 3
   },
   "file_extension": ".py",
   "mimetype": "text/x-python",
   "name": "python",
   "nbconvert_exporter": "python",
   "pygments_lexer": "ipython3",
   "version": "3.12.4"
  }
 },
 "nbformat": 4,
 "nbformat_minor": 5
}
