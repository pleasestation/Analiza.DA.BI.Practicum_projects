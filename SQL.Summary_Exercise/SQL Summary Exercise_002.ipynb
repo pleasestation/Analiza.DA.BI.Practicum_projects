{
 "cells": [
  {
   "cell_type": "markdown",
   "id": "3050711a-2cfd-45c7-a8fe-ae20a0940cf0",
   "metadata": {},
   "source": [
    "# SQL Summary Exercise #02 [13.04.24]"
   ]
  },
  {
   "cell_type": "markdown",
   "id": "f657e23c-9fb1-4054-987f-42edbd36ec08",
   "metadata": {},
   "source": [
    "Data set five:"
   ]
  },
  {
   "cell_type": "markdown",
   "id": "7fc06c16-d8a3-4dac-aa81-b97d0c5020f2",
   "metadata": {},
   "source": [
    "![Alt text](http://geefrog.com/DA/Data_set_five.jpg)\r\n"
   ]
  },
  {
   "cell_type": "markdown",
   "id": "169343f0-5bfc-4259-b399-145044ab15c2",
   "metadata": {},
   "source": [
    "***1.\tAnalyze the tables in the data set. For each table write its purpose, unique id column, data types and size. What do  you think are the main columns for analysis?***"
   ]
  },
  {
   "cell_type": "markdown",
   "id": "64900cb9-b127-406f-9535-cde41fa0b9fe",
   "metadata": {},
   "source": [
    "To answer this question, first, I should have to reveal the column names list in each of the five certain tables by querying  INFORMATION_SCHEMA.COLUMNS:"
   ]
  },
  {
   "cell_type": "markdown",
   "id": "ae91e8f9-3109-4a84-81c5-caff77040137",
   "metadata": {},
   "source": [
    "```sql\n",
    "SELECT COLUMN_NAME\r\n",
    "FROM INFORMATION_SCHEMA.COLUMNS\r\n",
    "WHERE TABLE_NAME = 'certain Table Name'\r\n"
   ]
  },
  {
   "cell_type": "markdown",
   "id": "d646e74c-66d6-46e3-9ca8-db405cc95f80",
   "metadata": {},
   "source": [
    "Now, we have the column names list: for revenue analysis.\r\n",
    " revenue analysis.\r\n"
   ]
  },
  {
   "cell_type": "markdown",
   "id": "128adf74-0bf1-4af0-8f7a-34780289f118",
   "metadata": {},
   "source": [
    "**table: DsFive_order_item_refund**"
   ]
  },
  {
   "cell_type": "markdown",
   "id": "20c03a06-c4c8-4c55-afcb-48834d9827f9",
   "metadata": {},
   "source": [
    "columns: order_item_refund_id, created_at, order_item_i, order_id, refund_amount_usd"
   ]
  },
  {
   "cell_type": "markdown",
   "id": "0b63984d-55b0-44b0-b00e-77a5c582e7f7",
   "metadata": {},
   "source": [
    "**table: DsFive_order_items**"
   ]
  },
  {
   "cell_type": "markdown",
   "id": "9ba0ed14-6eba-4d94-996e-c44966f421b2",
   "metadata": {},
   "source": [
    "columns: order_item_id, created_at, order_id, product_id, is_primary_item, price_usd, cogs_usd"
   ]
  },
  {
   "cell_type": "markdown",
   "id": "376740fd-9861-4444-8c35-de9d59fad47a",
   "metadata": {},
   "source": [
    "**table: DsFive_orders**"
   ]
  },
  {
   "cell_type": "markdown",
   "id": "d6656cef-fe0e-4228-a06c-f05ff8422a0e",
   "metadata": {},
   "source": [
    "columns: order_id, created_at, website_session_id, user_id, primary_product_id, items_purchased, price_usd, cogs_usd"
   ]
  },
  {
   "cell_type": "markdown",
   "id": "bc5b575b-e83b-4c63-82fd-d2dd2592b76c",
   "metadata": {},
   "source": [
    "**table: DsFive_products**"
   ]
  },
  {
   "cell_type": "markdown",
   "id": "918ac7d8-ecff-4e28-920d-3e1d85d555ca",
   "metadata": {},
   "source": [
    "columns: product_id, created_at, product_name"
   ]
  },
  {
   "cell_type": "markdown",
   "id": "eb7f0c64-5528-410b-9414-197baa16ea5c",
   "metadata": {},
   "source": [
    "**table: DsFive_website_pageviews**"
   ]
  },
  {
   "cell_type": "markdown",
   "id": "bb543d3f-c62f-46e1-8458-5b88ef667d84",
   "metadata": {},
   "source": [
    "columns: website_pageview_id, created_at, website_session_id, pageview_url"
   ]
  },
  {
   "cell_type": "markdown",
   "id": "58fd3144-d827-4bdb-add0-6361240beece",
   "metadata": {},
   "source": [
    "**table: DsFive_website_sessions**"
   ]
  },
  {
   "cell_type": "markdown",
   "id": "fe5e39a4-f59c-4ccf-8adb-7516ee629b52",
   "metadata": {},
   "source": [
    "columns: website_session_id, created_at, user_id, is_repeat_session, utm_source, utm_campaign, utm_content, device_type, http_referer\n"
   ]
  },
  {
   "cell_type": "markdown",
   "id": "938f65e6-42e6-4e3c-a950-15580ed9b5b5",
   "metadata": {},
   "source": [
    "Actually, the main columns for analysis are depending on the specific analytical questions or business objectives, but generally, the key columns across the tables are **order-related columns** such as **order_id**, "
   ]
  },
  {
   "cell_type": "markdown",
   "id": "ab71db16-8949-41c2-9381-4d8fdae3834c",
   "metadata": {},
   "source": [
    "**user-related** columns such as **user_id**, "
   ]
  },
  {
   "cell_type": "markdown",
   "id": "c9ac3c7a-4dab-413f-9d61-8fe753b3208a",
   "metadata": {},
   "source": [
    "and **product-related** columns such as **product_id**. "
   ]
  },
  {
   "cell_type": "markdown",
   "id": "2ef3eb9e-ce2b-42ca-a237-58116d3fa78f",
   "metadata": {},
   "source": [
    "Other important columns might include timestamp columns like **created_at** for time-based analysis, and financial columns like **price_usd** and **cogs_usd** for revenue analysis."
   ]
  },
  {
   "cell_type": "markdown",
   "id": "48a9a0d2-bc9b-44ca-bae4-15fe99c53b36",
   "metadata": {},
   "source": [
    "### Answer for each column"
   ]
  },
  {
   "cell_type": "markdown",
   "id": "39d40aa5-9ae4-4349-8c67-a1ba9ab6f8b4",
   "metadata": {},
   "source": [
    "## DsFive_order_item_refunds"
   ]
  },
  {
   "cell_type": "markdown",
   "id": "fe30f25f-db43-420e-9a01-5863bb929dd0",
   "metadata": {},
   "source": [
    "**Purpose:** Stores information about refunded order items."
   ]
  },
  {
   "cell_type": "markdown",
   "id": "7e181a77-7eaa-4826-98bb-13409d2c78fa",
   "metadata": {},
   "source": [
    "**Unique ID column:** <span style=\"color: red;\">order_item , refund_id</span>"
   ]
  },
  {
   "cell_type": "markdown",
   "id": "08783a6f-742d-4d3d-a4b8-21aa3d996746",
   "metadata": {},
   "source": [
    "***Data types and size:***"
   ]
  },
  {
   "cell_type": "markdown",
   "id": "79bcd064-00d3-4a9b-8651-26ada2c28fff",
   "metadata": {},
   "source": [
    "<span style=\"color: lightblue;\">order_item_refund_id:</span> INT"
   ]
  },
  {
   "cell_type": "markdown",
   "id": "ac94c31d-9a07-419a-a553-7fc3fdfea937",
   "metadata": {},
   "source": [
    "<span style=\"color: lightblue;\">created_at:</span> DATETIME"
   ]
  },
  {
   "cell_type": "markdown",
   "id": "16f0c616-1432-4e86-9f29-a9eec622978a",
   "metadata": {},
   "source": [
    "<span style=\"color: lightblue;\">order_item_id:</span> INT"
   ]
  },
  {
   "cell_type": "markdown",
   "id": "278f410f-4f8d-48b0-aae5-e1731bca4501",
   "metadata": {},
   "source": [
    "<span style=\"color: lightblue;\">order_id:</span> INT"
   ]
  },
  {
   "cell_type": "markdown",
   "id": "e7e42f21-e0fc-40c8-9fca-89060533e89f",
   "metadata": {},
   "source": [
    "<span style=\"color: lightblue;\">refund_amount_usd:</span> FLOAT"
   ]
  },
  {
   "cell_type": "markdown",
   "id": "74f6f987-ebfc-4c77-abd5-009dea8cb7b9",
   "metadata": {},
   "source": [
    "***Main columns for analysis:*** <span style=\"color: green;\">order_item_refund_id, created_at, refund_amount_usd</span>"
   ]
  },
  {
   "cell_type": "markdown",
   "id": "81dbe475-a429-48be-bc5c-df4cc7aff798",
   "metadata": {},
   "source": [
    "## DsFive_order_items"
   ]
  },
  {
   "cell_type": "markdown",
   "id": "76bb9b9b-f9ad-4aee-9d8c-f2401c838897",
   "metadata": {},
   "source": [
    "**Purpose:** Contains details about order items."
   ]
  },
  {
   "cell_type": "markdown",
   "id": "028d07b0-32ca-4741-b469-149dcef4595a",
   "metadata": {},
   "source": [
    "**Unique ID column:** <span style=\"color: red;\">order_item_id</span>"
   ]
  },
  {
   "cell_type": "markdown",
   "id": "fda42534-5269-4316-a85c-7c44f4e7e24c",
   "metadata": {},
   "source": [
    "***Data types and size:***"
   ]
  },
  {
   "cell_type": "markdown",
   "id": "bbac96ae-7260-4a32-83ed-e05f91266eb3",
   "metadata": {},
   "source": [
    "<span style=\"color: blue;\">order_item_id:</span> INT"
   ]
  },
  {
   "cell_type": "markdown",
   "id": "0e820985-d070-4927-a910-16c3a2288f8c",
   "metadata": {},
   "source": [
    "<span style=\"color: blue;\">created_at:</span> DATETIME"
   ]
  },
  {
   "cell_type": "markdown",
   "id": "c6fad6b8-9330-4202-b3b3-1feadb0d95aa",
   "metadata": {},
   "source": [
    "<span style=\"color: blue;\">order_id:</span> INT"
   ]
  },
  {
   "cell_type": "markdown",
   "id": "c8c5511f-9f9b-4691-9dab-4b4a87bc2de2",
   "metadata": {},
   "source": [
    "<span style=\"color: blue;\">product_id:</span> INT"
   ]
  },
  {
   "cell_type": "markdown",
   "id": "bacca82a-86da-451f-90ff-55631514e5cd",
   "metadata": {},
   "source": [
    "<span style=\"color: blue;\">is_primary_item:</span> BOOLEAN"
   ]
  },
  {
   "cell_type": "markdown",
   "id": "ec98b217-02cc-4d5b-8c3c-2d2bf0d01db7",
   "metadata": {},
   "source": [
    "<span style=\"color: blue;\">price_usd:</span> FLOAT"
   ]
  },
  {
   "cell_type": "markdown",
   "id": "36ead96c-bd05-44c2-bfe2-65a01a3e1cc9",
   "metadata": {},
   "source": [
    "<span style=\"color: blue;\">cogs_usd:</span> FLOAT"
   ]
  },
  {
   "cell_type": "markdown",
   "id": "ecbeda60-3023-4015-84d5-0f8519a5d348",
   "metadata": {},
   "source": [
    "***Main columns for analysis:*** <span style=\"color: green;\">order_item_id, created_at, product_id, price_usd, cogs_usd</span>"
   ]
  },
  {
   "cell_type": "markdown",
   "id": "929916e7-e738-4e8c-bce1-5cc739861931",
   "metadata": {},
   "source": [
    "## DsFive_orders"
   ]
  },
  {
   "cell_type": "markdown",
   "id": "4b6dd74e-c267-4199-9a78-2e1116321910",
   "metadata": {},
   "source": [
    "**Purpose:** Contains details about order items."
   ]
  },
  {
   "cell_type": "markdown",
   "id": "8cd1b051-b57a-43df-bcca-49d0a016ca70",
   "metadata": {},
   "source": [
    "**Unique ID column:** <span style=\"color: red;\">order_id</span>"
   ]
  },
  {
   "cell_type": "markdown",
   "id": "662ece2b-f67f-4e12-9ce9-d9f84a23309b",
   "metadata": {},
   "source": [
    "***Data types and size:***"
   ]
  },
  {
   "cell_type": "markdown",
   "id": "9704f694-4f18-4420-bbe9-3e5236d82fae",
   "metadata": {},
   "source": [
    "<span style=\"color: blue;\">order_item_id:</span> INT"
   ]
  },
  {
   "cell_type": "markdown",
   "id": "b41b7f22-bfeb-4a55-b501-c30a486d3ec0",
   "metadata": {},
   "source": [
    "<span style=\"color: blue;\">created_at:</span> DATETIME"
   ]
  },
  {
   "cell_type": "markdown",
   "id": "a39563d6-f8aa-4a2e-b600-cff8371ffd51",
   "metadata": {},
   "source": [
    "<span style=\"color: blue;\">website_session_id:</span> INT"
   ]
  },
  {
   "cell_type": "markdown",
   "id": "30adb657-326d-47e1-aa76-8b3f0dade474",
   "metadata": {},
   "source": [
    "<span style=\"color: blue;\">user_id:</span> INT"
   ]
  },
  {
   "cell_type": "markdown",
   "id": "4b4be8d7-68ea-491e-aef1-27efd5ec0e8b",
   "metadata": {},
   "source": [
    "<span style=\"color: blue;\">primary_product_id:</span> INT"
   ]
  },
  {
   "cell_type": "markdown",
   "id": "6fd5f7ee-5d9f-428d-9677-cfbf5237cd9f",
   "metadata": {},
   "source": [
    "<span style=\"color: blue;\">items_purchased:</span> INT"
   ]
  },
  {
   "cell_type": "markdown",
   "id": "65aa7e44-6480-4ed9-9c85-ae1b49f2f48c",
   "metadata": {},
   "source": [
    "<span style=\"color: blue;\">price_usd:</span> FLOAT"
   ]
  },
  {
   "cell_type": "markdown",
   "id": "733a90c1-6a5f-4791-a200-f6a16e3a832d",
   "metadata": {},
   "source": [
    "<span style=\"color: blue;\">cogs_usd:</span> FLOAT"
   ]
  },
  {
   "cell_type": "markdown",
   "id": "dfa622ad-b671-4361-9c51-30c20e92f4ba",
   "metadata": {},
   "source": [
    "***Main columns for analysis:*** <span style=\"color: green;\">order_id, created_at, user_id, primary_product_id, items_purchased, price_usd, cogs_usd</span>"
   ]
  },
  {
   "cell_type": "markdown",
   "id": "53a4c93f-3023-4dbb-a76d-8588d338d51f",
   "metadata": {},
   "source": [
    "## DsFive_products"
   ]
  },
  {
   "cell_type": "markdown",
   "id": "f8101c09-a99e-4489-a568-029fbf7bdaef",
   "metadata": {},
   "source": [
    "**Purpose:** Contains details about products."
   ]
  },
  {
   "cell_type": "markdown",
   "id": "479637e8-c70e-479d-8b9b-0055f1cb8b24",
   "metadata": {},
   "source": [
    "**Unique ID column:** <span style=\"color: red;\">product_id</span>"
   ]
  },
  {
   "cell_type": "markdown",
   "id": "1edafcbd-d35c-404f-a5d5-b6d96b4cc707",
   "metadata": {},
   "source": [
    "***Data types and size:***"
   ]
  },
  {
   "cell_type": "markdown",
   "id": "fbb4d438-da8e-494a-bf9b-c07b88c3762b",
   "metadata": {},
   "source": [
    "<span style=\"color: blue;\">product_id:</span> INT"
   ]
  },
  {
   "cell_type": "markdown",
   "id": "13ef8a1a-0429-466b-bf79-507f774b61f2",
   "metadata": {},
   "source": [
    "<span style=\"color: blue;\">created_at:</span> DATETIME"
   ]
  },
  {
   "cell_type": "markdown",
   "id": "9b9c184c-eadd-4d51-a579-7a63be676ec2",
   "metadata": {},
   "source": [
    "<span style=\"color: blue;\">product_name:</span> VARCHAR"
   ]
  },
  {
   "cell_type": "markdown",
   "id": "d8a1919a-0c0e-4d4e-b066-b4471db66b61",
   "metadata": {},
   "source": [
    "***Main columns for analysis:*** <span style=\"color: green;\">product_id, created_at, product_name</span>"
   ]
  },
  {
   "cell_type": "markdown",
   "id": "365f5483-6210-46c8-80f6-5888e2530a73",
   "metadata": {},
   "source": [
    "## DsFive_website_pageviews"
   ]
  },
  {
   "cell_type": "markdown",
   "id": "249fdd40-d1a6-46a5-b89a-6d5ff4a5bbb3",
   "metadata": {},
   "source": [
    "**Purpose:** Stores information about website page views."
   ]
  },
  {
   "cell_type": "markdown",
   "id": "858eb8a1-e81d-49c9-893e-a1ccd49daa97",
   "metadata": {},
   "source": [
    "**Unique ID column:** <span style=\"color: red;\">website_pageview_id</span>"
   ]
  },
  {
   "cell_type": "markdown",
   "id": "2289277a-2223-4b1d-8a28-d54ccd67d688",
   "metadata": {},
   "source": [
    "***Data types and size:***"
   ]
  },
  {
   "cell_type": "markdown",
   "id": "fce322db-4334-43f9-a8bc-67771dfe38f7",
   "metadata": {},
   "source": [
    "<span style=\"color: lightblue;\">website_pageview_id</span> INT"
   ]
  },
  {
   "cell_type": "markdown",
   "id": "adaaf184-ca5b-4fbb-b2b3-abfca283978e",
   "metadata": {},
   "source": [
    "<span style=\"color: lightblue;\">created_at:</span> DATETIME"
   ]
  },
  {
   "cell_type": "markdown",
   "id": "e7c5f451-3ba7-443e-a20e-0979a68294c0",
   "metadata": {},
   "source": [
    "<span style=\"color: lightblue;\">website_session_id:</span> INT"
   ]
  },
  {
   "cell_type": "markdown",
   "id": "28a04182-2536-4190-8171-48ddce9cfe3e",
   "metadata": {},
   "source": [
    "<span style=\"color: lightblue;\">pageview_url:</span> VARCHAR"
   ]
  },
  {
   "cell_type": "markdown",
   "id": "36dd247d-d487-4123-a534-567401ca5f54",
   "metadata": {},
   "source": [
    "***Main columns for analysis:*** <span style=\"color: lightgreen;\">website_pageview_id, created_at, pageview_url</span>"
   ]
  },
  {
   "cell_type": "markdown",
   "id": "a643fb0c-8391-4c71-864d-4e7d40191cb7",
   "metadata": {},
   "source": [
    "## DsFive_website_sessions"
   ]
  },
  {
   "cell_type": "markdown",
   "id": "ec99726f-3cc4-435a-a908-2d0d47b72d20",
   "metadata": {},
   "source": [
    "**Purpose:** Contains details about website sessions."
   ]
  },
  {
   "cell_type": "markdown",
   "id": "3d7c5a10-39d6-41b9-8ca5-2c97e5d8718c",
   "metadata": {},
   "source": [
    "**Unique ID column:** <span style=\"color: red;\">website_session_id</span>"
   ]
  },
  {
   "cell_type": "markdown",
   "id": "4c1a5a50-925b-4394-bea6-0bfdf32ad5ce",
   "metadata": {},
   "source": [
    "***Data types and size:***"
   ]
  },
  {
   "cell_type": "markdown",
   "id": "220aba7d-0d9d-4830-bde5-989e36bd1a40",
   "metadata": {},
   "source": [
    "<span style=\"color: blue;\">website_session_id</span> INT"
   ]
  },
  {
   "cell_type": "markdown",
   "id": "42d4fbb2-491a-42ed-86fe-5a1a87d47ed6",
   "metadata": {},
   "source": [
    "<span style=\"color: blue;\">created_at:</span> DATETIME"
   ]
  },
  {
   "cell_type": "markdown",
   "id": "8ba612ca-89e4-4c0c-a4e6-4c2ee9d14de8",
   "metadata": {},
   "source": [
    "<span style=\"color: blue;\">user_id:</span> INT"
   ]
  },
  {
   "cell_type": "markdown",
   "id": "249033af-5253-4c77-bba4-36cbd5a8c2d5",
   "metadata": {},
   "source": [
    "<span style=\"color: blue;\">pis_repeat_session:</span> BOOLEAN"
   ]
  },
  {
   "cell_type": "markdown",
   "id": "6e208578-82f3-443d-9dd9-c0b8628194e5",
   "metadata": {},
   "source": [
    "<span style=\"color: blue;\">utm_source:</span> VARCHAR"
   ]
  },
  {
   "cell_type": "markdown",
   "id": "465134a8-98cf-40a8-a848-6c6283a1e865",
   "metadata": {},
   "source": [
    "<span style=\"color: blue;\">utm_campaign:</span> VARCHAR"
   ]
  },
  {
   "cell_type": "markdown",
   "id": "0cc11b2a-351c-403d-961e-288ce4ff656e",
   "metadata": {},
   "source": [
    "<span style=\"color: blue;\">device_type:</span> VARCHAR"
   ]
  },
  {
   "cell_type": "markdown",
   "id": "dfd38baf-c05c-4837-ae00-ff27d8702d2b",
   "metadata": {},
   "source": [
    "<span style=\"color: blue;\">http_referer:</span> VARCHAR"
   ]
  },
  {
   "cell_type": "markdown",
   "id": "9576ea08-bfd2-4fce-b1ec-a3a739828618",
   "metadata": {},
   "source": [
    "***Main columns for analysis:*** <span style=\"color: green;\">website_session_id, created_at, user_id, is_repeat_session, utm_source, utm_campaign, utm_content, device_type</span>"
   ]
  },
  {
   "cell_type": "markdown",
   "id": "0fadd5b2-d5ab-4f39-a6e9-2fa4101f07b4",
   "metadata": {},
   "source": [
    "**Data Types Explanation:**\n",
    "<br>\n",
    "\n",
    "**INT:** Stands for ***Integer***. It's a data type used to store whole numbers (positive or negative) without any decimal places.\n",
    "<br>\n",
    "\n",
    "**DATETIME:** Represents ***date*** and ***time*** values. It typically stores both the date and the time of day, accurate to the millisecond.\n",
    "<br>\n",
    "\n",
    "**FLOAT:** Stands for ***Floating-Point Number***. It's a data type used to represent numbers with decimal points. It can store both very large and very small numbers, but it might not always be precise due to the way floating-point numbers are represented in computers.\n",
    "<br>\n",
    "\n",
    "**BOOLEAN:** Represents ***logical values***. It can only hold two possible values: ***true*** or ***false***. In some systems, it's represented as 1 for true and 0 for false.\n",
    "<br>\n",
    "\n",
    "**VARCHAR:** Stands for ***Variable Character***. It's a data type used to store character strings of variable length. The length of the string can vary, up to a maximum specified length.\n",
    "<br>\n",
    "\n",
    "These data types are commonly used in databases to define the type of data that can be stored in each column of a table.\n"
   ]
  },
  {
   "cell_type": "markdown",
   "id": "500d2554-de56-4948-a057-2f7775ea6e89",
   "metadata": {},
   "source": [
    "***2.\tWhich tables connect to each other? Which columns connect? What is the purpose of this connection? (It is recommended to create a diagram showing the connection between the tables)***"
   ]
  },
  {
   "cell_type": "markdown",
   "id": "e75a690b-8bbc-492c-a83d-a18c53681036",
   "metadata": {},
   "source": [
    "Each row in **DsFive_order_items** represents an item within an order, and the <span style=\"color: green;\">order_id </span> links to the order details stored in **DsFive_orders**: "
   ]
  },
  {
   "cell_type": "markdown",
   "id": "876edcad-bfd6-4330-944c-b10d2c1e610c",
   "metadata": {},
   "source": [
    "Based on the column names provided, it seems that several tables in the dataset are connected through foreign key relationships.\n",
    "<br>\r\n",
    "Here's a description of the connections between the tables_website_sessions.\r\n"
   ]
  },
  {
   "cell_type": "markdown",
   "id": "a7c8ea74-2c11-44e0-839a-dc848039ee22",
   "metadata": {},
   "source": [
    "**DsFive_order_item_refunds** and **DsFive_order_items**: "
   ]
  },
  {
   "cell_type": "markdown",
   "id": "cb64ed43-65d5-4191-9843-1f3102abdf92",
   "metadata": {},
   "source": [
    "These tables are connected through the column <span style=\"color: green;\">order_item_id</span>. "
   ]
  },
  {
   "cell_type": "markdown",
   "id": "1c181ca9-1744-4c80-967b-70c1589a035c",
   "metadata": {},
   "source": [
    "**DsFive_order_item_refunds** references **DsFive_order_items** to identify the refunded items, \r\n",
    "as each refunded item would correspond to an order item\r\n"
   ]
  },
  {
   "cell_type": "markdown",
   "id": "647a5b17-d9b6-4421-8fb1-7cefb9a314b9",
   "metadata": {},
   "source": [
    "**DsFive_order_items** and **DsFive_orders**: "
   ]
  },
  {
   "cell_type": "markdown",
   "id": "f6e85939-8dbe-41d7-9eec-d48dbc9cb083",
   "metadata": {},
   "source": [
    "These tables are connected through the column  <span style=\"color: green;\">order_id</span>. "
   ]
  },
  {
   "cell_type": "markdown",
   "id": "247b154e-c9ff-41c1-9b19-69615089e6e8",
   "metadata": {},
   "source": [
    "Each row in **DsFive_order_items** represents an item within an order, and the <span style=\"color: green;\">order_id </span> links to the order details stored in **DsFive_orders**: "
   ]
  },
  {
   "cell_type": "markdown",
   "id": "019bb42c-249c-4c8c-a80f-254d8fbfed26",
   "metadata": {},
   "source": [
    "**DsFive_orders** and **DsFive_website_sessions**: "
   ]
  },
  {
   "cell_type": "markdown",
   "id": "ea8d4704-99dd-43c9-aacc-dbb49fca0491",
   "metadata": {},
   "source": [
    "These tables are connected through the column  <span style=\"color: green;\">website_session_id</span>. "
   ]
  },
  {
   "cell_type": "markdown",
   "id": "bc483e12-b1ed-413f-80db-3c83dc8fe440",
   "metadata": {},
   "source": [
    "The <span style=\"color: green;\">website_session_id</span> in **DsFive_orders** the session during which the order was placed, linking the order to the website session details stored in **DsFive_website_sessions.**: "
   ]
  },
  {
   "cell_type": "markdown",
   "id": "44a2898e-9a30-4489-b956-c8117acb6da4",
   "metadata": {},
   "source": [
    "**DsFive_website_pageviews** and **DsFive_website_sessions**: "
   ]
  },
  {
   "cell_type": "markdown",
   "id": "c1a013be-f30b-4dd2-8077-f5db9894580d",
   "metadata": {},
   "source": [
    "These tables are connected through the column  <span style=\"color: green;\">website_session_id</span>. "
   ]
  },
  {
   "cell_type": "markdown",
   "id": "9234d3a4-dd41-47da-af44-fc963a5b3c24",
   "metadata": {},
   "source": [
    "Each page view recorded in **DsFive_website_pageviews** is associated with a session, and the <span style=\"color: green;\">website_session_id</span> links the page views to the respective session details in **DsFive_orders**. "
   ]
  },
  {
   "cell_type": "markdown",
   "id": "dfbf369a-0925-4539-9a08-a4d406cf7021",
   "metadata": {},
   "source": [
    "***Here's a diagram illustrating the connections between the tables:***"
   ]
  },
  {
   "cell_type": "markdown",
   "id": "e5a34d65-0a0f-457e-94a2-a928e297f1d7",
   "metadata": {},
   "source": [
    "![Alt text](http://geefrog.com/DA/SQL_EX_02/SQL_Summary_exercises_pic02.JPG)"
   ]
  },
  {
   "cell_type": "markdown",
   "id": "c9cb4250-d03f-4c5e-9e02-f826de910896",
   "metadata": {},
   "source": [
    "These connections allow for the retrieval of related information across different tables, facilitating more comprehensive data analysis and reporting. For example, with these connections, we can analyze order details along with website session information or track refunded items back to their original orders."
   ]
  },
  {
   "cell_type": "markdown",
   "id": "ceaa0819-db8b-4265-9ca2-9abd15fefc62",
   "metadata": {},
   "source": [
    "***3.\tFor each type of device from which the website is accessed,  which website is responsible for the most referrals that ended in an order?***"
   ]
  },
  {
   "cell_type": "markdown",
   "id": "5bd34d47-88a0-40bd-a402-6f7bcfbd1149",
   "metadata": {},
   "source": [
    "To answer this question, we need to analyze data from the tables **DsFive_website_sessions** and **DsFive_orders**. We'll first need to filter sessions \n",
    "based on the device type and then identify the referrals that resulted in an order. Here's a general outline of the steps we would take:<br>\r\n",
    "\r\n",
    "Jo**in DsFive_website_sessi**ons wi**th DsFive_ord**ers on t**he website_session**_rders.\r\n"
   ]
  },
  {
   "cell_type": "markdown",
   "id": "1bc1373e-5a48-4d04-a8b9-99fb715089b5",
   "metadata": {},
   "source": [
    "Filter the joined data based on the device type.\n",
    "<br>\n",
    "\n",
    "Group the data by the http_referer (referral website).\n",
    "<br>\n",
    "\n",
    "Count the number of orders for each referral website.\n",
    "<br>\n",
    "\n",
    "Identify the referral website with the highest number of orders.\n"
   ]
  },
  {
   "cell_type": "markdown",
   "id": "d9c5975e-af17-454f-81d7-6f4f75bbdcae",
   "metadata": {},
   "source": [
    "***Here I provide a SQL query to illustrate the process:***"
   ]
  },
  {
   "cell_type": "markdown",
   "id": "56200dfd-111c-485c-92e9-7415c18b4cbd",
   "metadata": {},
   "source": [
    "```sql\n",
    "-- Assuming device type is specified as 'desktop' for this example\r\n",
    "\r\n",
    "-- Subquery to filter sessions for desktop devices\r\n",
    "WITH DesktopSessions AS (\r\n",
    "    SELECT *\r\n",
    "    FROM [dbo].[DsFive_website_sessions]\r\n",
    "    WHERE device_type = 'desktop'\r\n",
    ")\r\n",
    "\r\n",
    "-- Joining filtered sessions with orders\r\n",
    "SELECT TOP 1 ws.http_referer, COUNT(o.order_id) AS num_orders\r\n",
    "FROM DesktopSessions ws\r\n",
    "JOIN DsFive_orders o ON ws.website_session_id = o.website_session_id\r\n",
    "GROUP BY ws.http_referer\r\n",
    "ORDER BY num_orders DESC\r\n"
   ]
  },
  {
   "cell_type": "markdown",
   "id": "6c4edc71-e60a-4dea-9b1e-e17e95b0ea3c",
   "metadata": {},
   "source": [
    "![Alt text](http://geefrog.com/DA/SQL_EX_02/SQL_Summary_exercises_pic03.JPG)"
   ]
  },
  {
   "cell_type": "raw",
   "id": "1e28f7e6-60cd-4f2e-8b48-f833fab1de4c",
   "metadata": {},
   "source": []
  },
  {
   "cell_type": "markdown",
   "id": "4f5196d0-1b39-4dc6-89c9-2f959c79ad21",
   "metadata": {},
   "source": [
    "***4. Present the amount of views of each page per date.***"
   ]
  },
  {
   "cell_type": "markdown",
   "id": "acb89157-c79f-4235-be65-2e2433397916",
   "metadata": {},
   "source": [
    "To present the amount of views of each page per date, we can use a SQL query:"
   ]
  },
  {
   "cell_type": "markdown",
   "id": "e1a36604-a80a-4f89-b954-5d66f5ebe63f",
   "metadata": {},
   "source": [
    "```sql\n",
    "SELECT pageview_url,\r\n",
    "    CONVERT(date, created_at) AS view_date,\r\n",
    "    COUNT(*) AS page_views\r\n",
    "FROM [dbo].[DsFive_website_pageviews]\r\n",
    "GROUP BY pageview_url,\r\n",
    "    CONVERT(date, created_at)\r\n",
    "ORDER BY view_date, page_views DESC\r\n"
   ]
  },
  {
   "cell_type": "markdown",
   "id": "06bcd3ba-4e79-4f19-a963-06a7b2ebdd73",
   "metadata": {},
   "source": [
    "***In this query:***"
   ]
  },
  {
   "cell_type": "markdown",
   "id": "597eb69d-7ef8-4b46-aa24-8ddb536f8b37",
   "metadata": {},
   "source": [
    "We select the `pageview_url` to identify each page, and use `CONVERT(date, created_at)` to extract the date part of the <span style=\"color: lightgreen;\">created_at</span> column.\r\n",
    "\r\n",
    "We count the number of occurrences of each page per date using `COUNT(*)`.\r\n",
    "\r\n",
    "We group the results by `pageview_url` and the converted date.\r\n",
    "\r\n",
    "Finally, we order the results by date and the number of page views in descending order.\r\n",
    "\r\n",
    "This query will give us the number of views for each page per date.\r\n",
    "te.\r\n"
   ]
  },
  {
   "cell_type": "markdown",
   "id": "50f1221a-b2f4-4c1a-af81-e8aea3c9cb86",
   "metadata": {},
   "source": [
    "![Alt text](http://geefrog.com/DA/SQL_EX_02/SQL_Summary_exercises_pic04.JPG)"
   ]
  },
  {
   "cell_type": "markdown",
   "id": "a951399e-3e91-42ce-ae5b-1f258cb54fcc",
   "metadata": {},
   "source": [
    "***5. What is the total amount of money paid for each product ? \r\n",
    "What is the average amount of money paid for products?\r\n",
    "Solve all in the same quer***.\r\n",
    "***"
   ]
  },
  {
   "cell_type": "markdown",
   "id": "1ddfe068-7dbf-4db5-ae13-f84136c08f00",
   "metadata": {},
   "source": [
    "I might accomplish this using a SQL query that combines grouping and aggregation functions. \r\n",
    "Here's how I calculate the total amount of money paid for each product and the average amount \r\n",
    "of money paid for products in the same query:\r\n"
   ]
  },
  {
   "cell_type": "markdown",
   "id": "dd30a9e9-a6c7-42dd-9e27-907a4ad7dad7",
   "metadata": {},
   "source": [
    "```sql\n",
    "SELECT product_id\r\n",
    "    ,SUM(price_usd) AS total_amount_paid\r\n",
    "\t,AVG(price_usd) AS average_amount_paid\r\n",
    "FROM [dbo].[DsFive_order_items]\r\n",
    "GROUP BY product_id\r\n"
   ]
  },
  {
   "cell_type": "markdown",
   "id": "d664629a-f676-47ba-8f40-676c808b6512",
   "metadata": {},
   "source": [
    "![Alt text](http://geefrog.com/DA/SQL_EX_02/SQL_Summary_exercises_pic05.JPG)"
   ]
  },
  {
   "cell_type": "markdown",
   "id": "b450c168-dddb-4bec-a065-67b4c2c0f21e",
   "metadata": {},
   "source": [
    "***In this query:***\n",
    "<p>We select <span style=\"color: green;\">product_id</span>.</p>\n",
    "<p>We calculate the total amount of money paid for each product using <span style=\"color: lightblue;\"><code>SUM(price_usd)</code></span> and alias it as <span style=\"color: green;\">total_amount_paid</span>.</p>\n",
    "<p>We calculate the average amount of money paid for each product using <span style=\"color: lightblue;\"><code>AVG(price_usd)</code></span> and alias it as <span style=\"color: green;\">average_amount_paid</span>.</p>\n",
    "<p>We group the results by <span style=\"color: green;\">product_id</span>.</p>\n"
   ]
  },
  {
   "cell_type": "markdown",
   "id": "54f45f96-e860-4d92-a426-975f89d8c803",
   "metadata": {},
   "source": [
    "<br>\n",
    "This query will provide us with the total amount of money paid for each product as well as the average amount of money paid for products in the same result set.\n",
    "<br>"
   ]
  },
  {
   "cell_type": "markdown",
   "id": "86d2a344-ef98-48e1-942c-bf81384a1823",
   "metadata": {},
   "source": [
    "<br>\n",
    "\n",
    "***6. How many orders were placed that included products created in 2013 and how many refunds were made on each one of these products?***"
   ]
  },
  {
   "cell_type": "markdown",
   "id": "581ecb2c-cf35-4b7c-8eca-a89b27ad6f38",
   "metadata": {},
   "source": [
    "***Solve all in the same query.***"
   ]
  },
  {
   "cell_type": "markdown",
   "id": "03870c3b-fd46-4478-856d-0f33242a77d9",
   "metadata": {},
   "source": [
    "To achieve this I should use a SQL query that joins the `DsFive_order_items`, `DsFive_products`, `DsFive_orders` and `DsFive_order_item_refunds` tables\n",
    "<p>and filter the data based on products created in 2013.</p>\n"
   ]
  },
  {
   "cell_type": "markdown",
   "id": "325549de-067d-4cd2-9954-b2735cc5cbe7",
   "metadata": {},
   "source": [
    "```sql\n",
    "WITH Products2013 AS (\r\n",
    "    SELECT DISTINCT oi.product_id\r\n",
    "    FROM [dbo].[DsFive_order_items] oi\r\n",
    "    JOIN [dbo].[DsFive_products] p ON oi.product_id = p.product_id\r\n",
    "    WHERE YEAR(p.created_at) = 2013\r\n",
    ")\r\n",
    "\r\n",
    "SELECT \r\n",
    "    COUNT(DISTINCT o.order_id) AS orders_with_2013_products,\r\n",
    "    oi.product_id,\r\n",
    "    COUNT(DISTINCT oir.order_item_refund_id) AS refunds_count\r\n",
    "FROM [dbo].[DsFive_orders] o\r\n",
    "JOIN [dbo].[DsFive_order_items] oi ON o.order_id = oi.order_id\r\n",
    "LEFT JOIN [dbo].[DsFive_order_item_refunds] oir ON oi.order_item_id = oir.order_item_id\r\n",
    "JOIN Products2013 p ON oi.product_id = p.product_id\r\n",
    "GROUP BY oi.product_id\r\n"
   ]
  },
  {
   "cell_type": "markdown",
   "id": "fe9368fd-782d-470f-a89f-9c1eb3f73ca0",
   "metadata": {},
   "source": [
    "![Alt text](http://geefrog.com/DA/SQL_EX_02/SQL_Summary_exercises_pic06.JPG)"
   ]
  },
  {
   "cell_type": "markdown",
   "id": "484c2ea1-d891-4124-8e6b-8367b9f86827",
   "metadata": {},
   "source": [
    "***In this query:***\n",
    "\r",
    "First, I create a Common Table Expression (CTE) named `Products2013` to identify the products created in 2013.  \r\n",
    "Then, join the `DsFive_order_items` with `DsFive_products` to get the products' creation dates and filter them to include only those created in 2013.  \r\n",
    "I count the number of distinct orders that included products created in 2013.  \r\n",
    "I also count the number of distinct refunds made for each product that was included in orders placed in 2013.  \r\n",
    "Finally, I group the results by <span style=\"color: lightgreen;\">`product_id`</span>.\r\n",
    "\r\n",
    "This query provides us with the number of orders placed that included products created in 2013 and the number of refunds made for each of these products in the same resul set.\r\n",
    "t.\r\n",
    "t set.\r\n",
    "ult set.\r\n",
    "ult set.\r\n",
    "esult set.\r\n"
   ]
  },
  {
   "cell_type": "markdown",
   "id": "b9d58984-0fd9-454b-a508-62fc9f7e8e0d",
   "metadata": {},
   "source": [
    "***For the following query:******"
   ]
  },
  {
   "cell_type": "markdown",
   "id": "549ca08c-5109-432a-9d08-aaa24415c116",
   "metadata": {},
   "source": [
    "***a. What is the purpose of the query?***"
   ]
  },
  {
   "cell_type": "markdown",
   "id": "0d0d989d-290b-423d-a0d4-8f863a3e66d8",
   "metadata": {},
   "source": [
    "***b. How can the retrieval be optimized?***"
   ]
  },
  {
   "cell_type": "markdown",
   "id": "2aad4b96-664d-45bb-9343-f0b662a3446d",
   "metadata": {},
   "source": [
    "```sql\n",
    "select *\n",
    "from\n",
    "\t(select sum(o.price_usd) sum_product, o.primary_product_id\n",
    "\tfrom [dbo].[DsFive_orders] o\n",
    "\tjoin [dbo].[DsFive_products] p\n",
    "\ton o.primary_product_id=p.product_id\n",
    "\twhere p.product_id in(1,2,3)\n",
    "\tgroup by o.primary_product_id\n",
    "\t)q\n",
    "where q.sum_product>300000\n"
   ]
  },
  {
   "cell_type": "markdown",
   "id": "0a9d20ea-1fdd-46f1-97bd-14d7ca870c69",
   "metadata": {},
   "source": [
    "**a.** The purpose of the given SQL query is to retrieve data from two tables (**DsFive_orders** and **DsFive_products**), perform some calculations, and filter the results based on certain conditions."
   ]
  },
  {
   "cell_type": "markdown",
   "id": "cbe89337-e0c0-4473-bb4c-a20930711937",
   "metadata": {},
   "source": [
    "**b.** To optimize the retrieval we should use the following steps\n",
    "<br>\n",
    "**Indexing:** Create indexes on columns frequently used in joins, filters, and group by operations to speed up data retrieval by allowing the database engine to quickly locate relevant rows.\n",
    "<br>\n",
    "\n",
    "**Query Rewrite:** Simplify or restructure complex queries to reduce unnecessary operations or data processing. This can involve breaking down the query into smaller parts or eliminating redundant calculations.\n",
    "<br>\n",
    "\n",
    "**Caching:** Cache frequently accessed query results to avoid redundant computations and reduce response time, especially for queries with high execution costs.\n",
    "<br>\n",
    "\n",
    "**Materialized Views:** Use materialized views to precompute and store the results of complex queries, reducing the need for repeated computations and improving query performance, especially for frequently executed queries.\n"
   ]
  },
  {
   "cell_type": "markdown",
   "id": "28ceb4fb-f8c0-41c4-8c1e-c81498f1ddf6",
   "metadata": {},
   "source": [
    "![Alt text](http://geefrog.com/DA/SQL_EX_02/SQL_Summary_exercises_pic07.JPG)"
   ]
  }
 ],
 "metadata": {
  "kernelspec": {
   "display_name": "Python 3 (ipykernel)",
   "language": "python",
   "name": "python3"
  },
  "language_info": {
   "codemirror_mode": {
    "name": "ipython",
    "version": 3
   },
   "file_extension": ".py",
   "mimetype": "text/x-python",
   "name": "python",
   "nbconvert_exporter": "python",
   "pygments_lexer": "ipython3",
   "version": "3.12.4"
  }
 },
 "nbformat": 4,
 "nbformat_minor": 5
}
