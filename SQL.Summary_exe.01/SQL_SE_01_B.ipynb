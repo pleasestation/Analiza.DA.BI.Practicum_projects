{
 "cells": [
  {
   "cell_type": "markdown",
   "id": "9cd7e251-bfa2-4708-8f38-b89f6d8af698",
   "metadata": {},
   "source": [
    "# SQL Summary exercise #1"
   ]
  },
  {
   "cell_type": "markdown",
   "id": "da72f883-d546-48d5-9442-0b7911e3cd88",
   "metadata": {},
   "source": [
    "**Knowledge required:**"
   ]
  },
  {
   "cell_type": "markdown",
   "id": "5dd1a12c-6b3a-432c-9acf-c147334e2c86",
   "metadata": {},
   "source": [
    "● Select & From clauses"
   ]
  },
  {
   "cell_type": "markdown",
   "id": "1a4b7f5b-c909-4999-b173-6980e20aff1f",
   "metadata": {},
   "source": [
    "● Filter & Sort (Where & order by clauses)"
   ]
  },
  {
   "cell_type": "markdown",
   "id": "6ce0a1bf-015c-400b-8b42-475d5076021e",
   "metadata": {},
   "source": [
    "● Scalar functions"
   ]
  },
  {
   "cell_type": "markdown",
   "id": "cf9f93ef-1f2d-4711-a2e6-730db001951d",
   "metadata": {},
   "source": [
    "● Conversion functions"
   ]
  },
  {
   "cell_type": "markdown",
   "id": "9307ee4f-7093-41af-8038-231fc2df963f",
   "metadata": {},
   "source": [
    "● Aggregate & analytic functions"
   ]
  },
  {
   "cell_type": "markdown",
   "id": "b7c6a4e0-7df1-4371-8bf5-98f88a959997",
   "metadata": {},
   "source": [
    "● Union, intersect, except"
   ]
  },
  {
   "cell_type": "markdown",
   "id": "c4bdecf0-baf9-4b50-ab3b-12c575c5bd67",
   "metadata": {},
   "source": [
    "● Subquery"
   ]
  },
  {
   "cell_type": "markdown",
   "id": "d80613a4-dc04-4d2a-81ed-f79f1f5de3bd",
   "metadata": {},
   "source": [
    "# “Pokemon” table:"
   ]
  },
  {
   "cell_type": "markdown",
   "id": "f63f5e46-04f4-4f65-b57c-72c250124a8f",
   "metadata": {},
   "source": [
    "**01. Present all the pokemons with the letter R in their name.** "
   ]
  },
  {
   "cell_type": "markdown",
   "id": "2279b95c-031e-4de7-b58e-6dae03a4220e",
   "metadata": {},
   "source": [
    "SELECT *\n",
    "\n",
    "FROM [dbo].[pokemon]\n",
    "\n",
    "WHERE Name LIKE '%R%'"
   ]
  },
  {
   "cell_type": "markdown",
   "id": "3141e672-e2a7-49be-bad6-416e353be592",
   "metadata": {},
   "source": [
    "**02. Order all the pokemons by their weight in descending order.**"
   ]
  },
  {
   "cell_type": "markdown",
   "id": "c6bb161d-5947-40a3-9dfd-6e3684a04be5",
   "metadata": {},
   "source": [
    "SELECT *\n",
    "\n",
    "FROM [dbo].[pokemon]\n",
    "\n",
    "ORDER BY Weight DESC"
   ]
  },
  {
   "cell_type": "markdown",
   "id": "c2c8d469-0c7b-420e-b4d9-0c34a7e1f70d",
   "metadata": {},
   "source": [
    "**03. Present the pokemons’ names in lowercase.**"
   ]
  },
  {
   "cell_type": "markdown",
   "id": "815ad5f2-40df-410d-a05a-087c6cf5c6ae",
   "metadata": {},
   "source": [
    "SELECT LOWER(name) AS lowercase_name\n",
    "\n",
    "FROM [dbo].[pokemon]"
   ]
  },
  {
   "cell_type": "markdown",
   "id": "50a8e908-04bd-4566-9997-f93b3e08b8fc",
   "metadata": {},
   "source": [
    "### “DsOne_orders” table:"
   ]
  },
  {
   "cell_type": "markdown",
   "id": "cb4b30a8-7c6f-492b-af53-07744d562f39",
   "metadata": {},
   "source": [
    "**01. For all the orders in the “Office Supplies” category that shipped in 2019, \r\n",
    "    calculate the average number of days to ship.**"
   ]
  },
  {
   "cell_type": "markdown",
   "id": "6a09812b-5f09-4c86-9dee-7521a7733ca9",
   "metadata": {},
   "source": [
    "SELECT AVG(days_to_ship) AS avg_days_to_ship\n",
    "\n",
    "FROM [dbo].[DsOne_orders]\n",
    "\n",
    "WHERE category = 'Office Supplies'\n",
    "\n",
    "AND YEAR(ship_date) = 2019"
   ]
  },
  {
   "cell_type": "code",
   "execution_count": null,
   "id": "a4e55434-6578-42b9-b652-24c83abc62e9",
   "metadata": {},
   "outputs": [],
   "source": []
  }
 ],
 "metadata": {
  "kernelspec": {
   "display_name": "Python 3 (ipykernel)",
   "language": "python",
   "name": "python3"
  },
  "language_info": {
   "codemirror_mode": {
    "name": "ipython",
    "version": 3
   },
   "file_extension": ".py",
   "mimetype": "text/x-python",
   "name": "python",
   "nbconvert_exporter": "python",
   "pygments_lexer": "ipython3",
   "version": "3.12.4"
  }
 },
 "nbformat": 4,
 "nbformat_minor": 5
}
