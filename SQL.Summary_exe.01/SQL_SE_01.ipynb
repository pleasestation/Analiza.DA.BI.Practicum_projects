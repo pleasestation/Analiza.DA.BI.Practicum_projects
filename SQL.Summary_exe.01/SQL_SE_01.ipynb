{
 "cells": [
  {
   "cell_type": "markdown",
   "id": "9cd7e251-bfa2-4708-8f38-b89f6d8af698",
   "metadata": {},
   "source": [
    "# SQL Summary exercise #1"
   ]
  },
  {
   "cell_type": "markdown",
   "id": "da72f883-d546-48d5-9442-0b7911e3cd88",
   "metadata": {},
   "source": [
    "**Knowledge required:**"
   ]
  },
  {
   "cell_type": "raw",
   "id": "7e9ef794-eb9b-4a99-8420-74cfc13ff2fe",
   "metadata": {},
   "source": [
    "Select & From clauses\n",
    "Filter & Sort (Where & order by clauses)\n",
    "Scalar functions\n",
    "Conversion functions\n",
    "Aggregate & analytic functions\n",
    "Union, intersect, except\n",
    "Subquery"
   ]
  },
  {
   "cell_type": "markdown",
   "id": "d80613a4-dc04-4d2a-81ed-f79f1f5de3bd",
   "metadata": {},
   "source": [
    "# “Pokemon” table:"
   ]
  },
  {
   "cell_type": "markdown",
   "id": "f63f5e46-04f4-4f65-b57c-72c250124a8f",
   "metadata": {},
   "source": [
    "**01. Present all the pokemons with the letter R in their name.** "
   ]
  },
  {
   "cell_type": "raw",
   "id": "c942aa51-256f-4d23-aa69-5ea0546ed9f4",
   "metadata": {},
   "source": [
    "SELECT *\n",
    "FROM [dbo].[pokemon]\n",
    "WHERE Name LIKE '%R%'"
   ]
  },
  {
   "cell_type": "markdown",
   "id": "3141e672-e2a7-49be-bad6-416e353be592",
   "metadata": {},
   "source": [
    "**02. Order all the pokemons by their weight in descending order.**"
   ]
  },
  {
   "cell_type": "raw",
   "id": "7e333bcd-3779-4a61-8297-5c8deff53fe0",
   "metadata": {},
   "source": [
    "SELECT *\n",
    "FROM [dbo].[pokemon]\n",
    "ORDER BY Weight DESC"
   ]
  },
  {
   "cell_type": "markdown",
   "id": "c2c8d469-0c7b-420e-b4d9-0c34a7e1f70d",
   "metadata": {},
   "source": [
    "**03. Present the pokemons’ names in lowercase.**"
   ]
  },
  {
   "cell_type": "raw",
   "id": "6d0d33d6-5801-42c7-9b0d-ae89783202d2",
   "metadata": {},
   "source": [
    "SELECT LOWER(name) AS lowercase_name\n",
    "FROM [dbo].[pokemon]"
   ]
  },
  {
   "cell_type": "markdown",
   "id": "50a8e908-04bd-4566-9997-f93b3e08b8fc",
   "metadata": {},
   "source": [
    "### “DsOne_orders” table:"
   ]
  },
  {
   "cell_type": "markdown",
   "id": "cb4b30a8-7c6f-492b-af53-07744d562f39",
   "metadata": {},
   "source": [
    "**01. For all the orders in the “Office Supplies” category that shipped in 2019, \r\n",
    "    calculate the average number of days to ship.**"
   ]
  },
  {
   "cell_type": "raw",
   "id": "1e7034de-475e-4d20-9d0f-15a5a7655a90",
   "metadata": {},
   "source": [
    "SELECT AVG(days_to_ship) AS avg_days_to_ship\n",
    "FROM [dbo].[DsOne_orders]\n",
    "WHERE category = 'Office Supplies'\n",
    "AND YEAR(ship_date) = 2019"
   ]
  },
  {
   "cell_type": "code",
   "execution_count": null,
   "id": "a4e55434-6578-42b9-b652-24c83abc62e9",
   "metadata": {},
   "outputs": [],
   "source": []
  }
 ],
 "metadata": {
  "kernelspec": {
   "display_name": "Python 3 (ipykernel)",
   "language": "python",
   "name": "python3"
  },
  "language_info": {
   "codemirror_mode": {
    "name": "ipython",
    "version": 3
   },
   "file_extension": ".py",
   "mimetype": "text/x-python",
   "name": "python",
   "nbconvert_exporter": "python",
   "pygments_lexer": "ipython3",
   "version": "3.12.4"
  }
 },
 "nbformat": 4,
 "nbformat_minor": 5
}
